{
  "nbformat": 4,
  "nbformat_minor": 0,
  "metadata": {
    "colab": {
      "provenance": []
    },
    "kernelspec": {
      "name": "python3",
      "display_name": "Python 3"
    },
    "language_info": {
      "name": "python"
    }
  },
  "cells": [
    {
      "cell_type": "markdown",
      "source": [
        "# <font color=\"red\">**Progetto: Un modello per l’identificazione della lingua di testi per un museo**</font>"
      ],
      "metadata": {
        "id": "KFai7OcwU9Wd"
      }
    },
    {
      "cell_type": "markdown",
      "source": [
        "## <font color=\"orange\">**Master: Master in AI Development**</font>"
      ],
      "metadata": {
        "id": "j1K-JnKjkvk4"
      }
    },
    {
      "cell_type": "markdown",
      "source": [
        "## <font color=\"orange\">**Modulo: A.I. applicata per Sviluppatori**</font>"
      ],
      "metadata": {
        "id": "OtM15FvLk2Er"
      }
    },
    {
      "cell_type": "markdown",
      "source": [
        "## <font color=\"orange\">**Studente: Giacomo Latini**</font>"
      ],
      "metadata": {
        "id": "437Q_u-_k6Vd"
      }
    },
    {
      "cell_type": "markdown",
      "source": [
        "## <font color=\"orange\">**Specifiche del Progetto**</font>"
      ],
      "metadata": {
        "id": "MSmlVBjbk9S-"
      }
    },
    {
      "cell_type": "markdown",
      "source": [
        "**Modello per l'Identificazione della Lingua di Testi per un Museo**\n",
        "\n",
        "**Caso d'Uso Aziendale: MuseumLangID**\n",
        "\n",
        "---\n",
        "\n",
        "**Introduzione all'Azienda:**\n",
        "\n",
        "MuseumLangID è un'iniziativa di un museo internazionale che ospita una vasta collezione di opere d'arte e manufatti. Le descrizioni degli oggetti sono spesso scritte in diverse lingue, e il personale del museo ha bisogno di uno strumento automatizzato per identificare rapidamente la lingua di questi testi.\n",
        "\n",
        "**Problema:**\n",
        "\n",
        "La gestione delle informazioni multilingue è una sfida significativa per il museo. Attualmente, la lingua di ogni descrizione deve essere identificata manualmente, il che richiede tempo e può portare a errori. Con l'espansione delle collezioni, il numero di testi da analizzare aumenta, rendendo necessario un approccio automatizzato e scalabile.\n",
        "\n",
        "**Obiettivo del Progetto:**\n",
        "\n",
        "L'obiettivo è sviluppare un modello di machine learning basato su tecniche di Natural Language Processing (NLP) per identificare la lingua di testi forniti dal museo. Questo modello dovrà:\n",
        "1. Riconoscere automaticamente la lingua di un testo.\n",
        "2. Supportare almeno 3 lingue principali.\n",
        "3. Essere facile da integrare con il sistema esistente del museo.\n",
        "\n",
        "**Benefici Attesi:**\n",
        "* **Automazione:** Eliminare la necessità di identificazione manuale delle lingue.\n",
        "* **Efficienza:** Processare rapidamente grandi volumi di testi.\n",
        "* **Accuratezza:** Ridurre gli errori umani nell'identificazione delle lingue.\n",
        "\n",
        "---\n",
        "\n",
        "**Specifiche del Progetto:**\n",
        "* **Dataset:** Il dataset è disponibile a questo link: https://raw.githubusercontent.com/Profession-AI/progetti-ml/refs/heads/main/Modello%20per%20l'identificazione%20della%20lingua%20dei%20testi%20di%20un%20museo/museo_descrizioni.csv. Contiene varie descrizioni in più lingue, con una colonna che rappresenta il codice della lingua, che è il target da prevedere.\n",
        "* **Tecnologie:**\n",
        "  * Linguaggio di programmazione: Python\n",
        "  * Librerie richieste:\n",
        "    * scikit-learn\n",
        "    * nltk\n",
        "    * numpy\n",
        "    * pandas\n",
        "\n",
        "---\n",
        "\n",
        "**Funzionalità Chiave:**\n",
        "1. **Preprocessing dei Dati:**\n",
        "  * Pulizia del testo (rimozione di caratteri speciali, normalizzazione).\n",
        "  * Tokenizzazione e rappresentazione dei testi in un formato numerico (ad esempio, Bag of Words o TF-IDF).\n",
        "2. **Sviluppo del Modello:**\n",
        "  * Creazione di un modello di classificazione delle lingue basato su algoritmi di machine learning (ad esempio, Naive Bayes, Support Vector Machine o Random Forest).\n",
        "  * Addestramento e validazione del modello sul dataset fornito.\n",
        "3. **Valutazione:**\n",
        "  * Utilizzare metriche come accuratezza, precisione, richiamo e F1-score per valutare le prestazioni del modello."
      ],
      "metadata": {
        "id": "dwMXdQmVk-F7"
      }
    },
    {
      "cell_type": "markdown",
      "source": [
        "## <font color=\"orange\">**Progetto**</font>"
      ],
      "metadata": {
        "id": "P-Z_li2ZU91Y"
      }
    },
    {
      "cell_type": "markdown",
      "source": [
        "Definizione delle librerie + eventuali moduli, con relative classi e funzioni:"
      ],
      "metadata": {
        "id": "qwMTIE3Kuzh2"
      }
    },
    {
      "cell_type": "code",
      "execution_count": null,
      "metadata": {
        "id": "qrwqYOKbUnQc"
      },
      "outputs": [],
      "source": [
        "from sklearn.feature_extraction.text import TfidfVectorizer\n",
        "from sklearn.model_selection import train_test_split\n",
        "from sklearn.naive_bayes import MultinomialNB\n",
        "from sklearn.metrics import classification_report, confusion_matrix, RocCurveDisplay, roc_curve, auc\n",
        "from sklearn.preprocessing import label_binarize\n",
        "\n",
        "import pandas as pd\n",
        "import matplotlib.pyplot as plt\n",
        "import numpy as np\n",
        "import seaborn as sns\n",
        "import string\n",
        "import re"
      ]
    },
    {
      "cell_type": "markdown",
      "source": [
        "Definizione delle costanti:\n",
        "* RANDOM_SEED: costante che verrà passata al parametro random_state, per la generazione di dati casuali\n",
        "* BASE_PATH: percorso (url) al dataset di riferimento"
      ],
      "metadata": {
        "id": "uywuGDFtVREq"
      }
    },
    {
      "cell_type": "code",
      "source": [
        "RANDOM_SEED = 0\n",
        "BASE_PATH = \"https://raw.githubusercontent.com/Profession-AI/progetti-ml/refs/heads/main/Modello%20per%20l'identificazione%20della%20lingua%20dei%20testi%20di%20un%20museo/\""
      ],
      "metadata": {
        "id": "cMcS2uThVCDE"
      },
      "execution_count": null,
      "outputs": []
    },
    {
      "cell_type": "markdown",
      "source": [
        "### <font color=\"yellow\">**Preprocessing dei dati**</font>"
      ],
      "metadata": {
        "id": "yqaMTGs3WDmN"
      }
    },
    {
      "cell_type": "markdown",
      "source": [
        "Utilizzo della funzione read_csv(), della libreria Pandas, per la lettura del file.csv contenente il dataset con le descrizioni delle opere d'arte e manufatti presenti nel museo MuseumLangID, in tre diverse lingue: italiano, inglese e tedesco"
      ],
      "metadata": {
        "id": "jLiet2FnWEFB"
      }
    },
    {
      "cell_type": "code",
      "source": [
        "df_museum = pd.read_csv(BASE_PATH + \"museo_descrizioni.csv\")"
      ],
      "metadata": {
        "id": "ipMykcKzVWgn"
      },
      "execution_count": null,
      "outputs": []
    },
    {
      "cell_type": "markdown",
      "source": [
        "Dall'output si possono notare due variabili:\n",
        "* Testo: feature che indica la descrizione delle opere d'arte e manufatti\n",
        "* Codice Lingua: target che indica la lingua delle descrizioni delle opere d'arte e manufatti"
      ],
      "metadata": {
        "id": "-kl8dEBtWQEJ"
      }
    },
    {
      "cell_type": "code",
      "source": [
        "df_museum"
      ],
      "metadata": {
        "colab": {
          "base_uri": "https://localhost:8080/",
          "height": 423
        },
        "id": "iwpYLHXxWMiN",
        "outputId": "724d590b-9daa-465a-fd2e-18aaa1eea578"
      },
      "execution_count": null,
      "outputs": [
        {
          "output_type": "execute_result",
          "data": {
            "text/plain": [
              "                                                 Testo Codice Lingua\n",
              "0    Statua in marmo di un imperatore romano del II...            it\n",
              "1           Anfora greca con decorazioni a figure nere            it\n",
              "2    Dipinto rinascimentale raffigurante la Madonna...            it\n",
              "3           Elmo corinzio in bronzo del VI secolo a.C.            it\n",
              "4           Manoscritto medievale con miniature dorate            it\n",
              "..                                                 ...           ...\n",
              "289         Wikinger-Anhänger mit Darstellung von Thor            de\n",
              "290  Päpstliches Bleisiegel mit dem Bild des Heilig...            de\n",
              "291    Leder-Gürtel mit langobardischer Bronzeschließe            de\n",
              "292  Renaissance-Kupferbecken mit pflanzlichen Must...            de\n",
              "293        Helm mit Kamm der samnitischen Zivilisation            de\n",
              "\n",
              "[294 rows x 2 columns]"
            ],
            "text/html": [
              "\n",
              "  <div id=\"df-53899397-d68c-4bf6-861d-813baf249b39\" class=\"colab-df-container\">\n",
              "    <div>\n",
              "<style scoped>\n",
              "    .dataframe tbody tr th:only-of-type {\n",
              "        vertical-align: middle;\n",
              "    }\n",
              "\n",
              "    .dataframe tbody tr th {\n",
              "        vertical-align: top;\n",
              "    }\n",
              "\n",
              "    .dataframe thead th {\n",
              "        text-align: right;\n",
              "    }\n",
              "</style>\n",
              "<table border=\"1\" class=\"dataframe\">\n",
              "  <thead>\n",
              "    <tr style=\"text-align: right;\">\n",
              "      <th></th>\n",
              "      <th>Testo</th>\n",
              "      <th>Codice Lingua</th>\n",
              "    </tr>\n",
              "  </thead>\n",
              "  <tbody>\n",
              "    <tr>\n",
              "      <th>0</th>\n",
              "      <td>Statua in marmo di un imperatore romano del II...</td>\n",
              "      <td>it</td>\n",
              "    </tr>\n",
              "    <tr>\n",
              "      <th>1</th>\n",
              "      <td>Anfora greca con decorazioni a figure nere</td>\n",
              "      <td>it</td>\n",
              "    </tr>\n",
              "    <tr>\n",
              "      <th>2</th>\n",
              "      <td>Dipinto rinascimentale raffigurante la Madonna...</td>\n",
              "      <td>it</td>\n",
              "    </tr>\n",
              "    <tr>\n",
              "      <th>3</th>\n",
              "      <td>Elmo corinzio in bronzo del VI secolo a.C.</td>\n",
              "      <td>it</td>\n",
              "    </tr>\n",
              "    <tr>\n",
              "      <th>4</th>\n",
              "      <td>Manoscritto medievale con miniature dorate</td>\n",
              "      <td>it</td>\n",
              "    </tr>\n",
              "    <tr>\n",
              "      <th>...</th>\n",
              "      <td>...</td>\n",
              "      <td>...</td>\n",
              "    </tr>\n",
              "    <tr>\n",
              "      <th>289</th>\n",
              "      <td>Wikinger-Anhänger mit Darstellung von Thor</td>\n",
              "      <td>de</td>\n",
              "    </tr>\n",
              "    <tr>\n",
              "      <th>290</th>\n",
              "      <td>Päpstliches Bleisiegel mit dem Bild des Heilig...</td>\n",
              "      <td>de</td>\n",
              "    </tr>\n",
              "    <tr>\n",
              "      <th>291</th>\n",
              "      <td>Leder-Gürtel mit langobardischer Bronzeschließe</td>\n",
              "      <td>de</td>\n",
              "    </tr>\n",
              "    <tr>\n",
              "      <th>292</th>\n",
              "      <td>Renaissance-Kupferbecken mit pflanzlichen Must...</td>\n",
              "      <td>de</td>\n",
              "    </tr>\n",
              "    <tr>\n",
              "      <th>293</th>\n",
              "      <td>Helm mit Kamm der samnitischen Zivilisation</td>\n",
              "      <td>de</td>\n",
              "    </tr>\n",
              "  </tbody>\n",
              "</table>\n",
              "<p>294 rows × 2 columns</p>\n",
              "</div>\n",
              "    <div class=\"colab-df-buttons\">\n",
              "\n",
              "  <div class=\"colab-df-container\">\n",
              "    <button class=\"colab-df-convert\" onclick=\"convertToInteractive('df-53899397-d68c-4bf6-861d-813baf249b39')\"\n",
              "            title=\"Convert this dataframe to an interactive table.\"\n",
              "            style=\"display:none;\">\n",
              "\n",
              "  <svg xmlns=\"http://www.w3.org/2000/svg\" height=\"24px\" viewBox=\"0 -960 960 960\">\n",
              "    <path d=\"M120-120v-720h720v720H120Zm60-500h600v-160H180v160Zm220 220h160v-160H400v160Zm0 220h160v-160H400v160ZM180-400h160v-160H180v160Zm440 0h160v-160H620v160ZM180-180h160v-160H180v160Zm440 0h160v-160H620v160Z\"/>\n",
              "  </svg>\n",
              "    </button>\n",
              "\n",
              "  <style>\n",
              "    .colab-df-container {\n",
              "      display:flex;\n",
              "      gap: 12px;\n",
              "    }\n",
              "\n",
              "    .colab-df-convert {\n",
              "      background-color: #E8F0FE;\n",
              "      border: none;\n",
              "      border-radius: 50%;\n",
              "      cursor: pointer;\n",
              "      display: none;\n",
              "      fill: #1967D2;\n",
              "      height: 32px;\n",
              "      padding: 0 0 0 0;\n",
              "      width: 32px;\n",
              "    }\n",
              "\n",
              "    .colab-df-convert:hover {\n",
              "      background-color: #E2EBFA;\n",
              "      box-shadow: 0px 1px 2px rgba(60, 64, 67, 0.3), 0px 1px 3px 1px rgba(60, 64, 67, 0.15);\n",
              "      fill: #174EA6;\n",
              "    }\n",
              "\n",
              "    .colab-df-buttons div {\n",
              "      margin-bottom: 4px;\n",
              "    }\n",
              "\n",
              "    [theme=dark] .colab-df-convert {\n",
              "      background-color: #3B4455;\n",
              "      fill: #D2E3FC;\n",
              "    }\n",
              "\n",
              "    [theme=dark] .colab-df-convert:hover {\n",
              "      background-color: #434B5C;\n",
              "      box-shadow: 0px 1px 3px 1px rgba(0, 0, 0, 0.15);\n",
              "      filter: drop-shadow(0px 1px 2px rgba(0, 0, 0, 0.3));\n",
              "      fill: #FFFFFF;\n",
              "    }\n",
              "  </style>\n",
              "\n",
              "    <script>\n",
              "      const buttonEl =\n",
              "        document.querySelector('#df-53899397-d68c-4bf6-861d-813baf249b39 button.colab-df-convert');\n",
              "      buttonEl.style.display =\n",
              "        google.colab.kernel.accessAllowed ? 'block' : 'none';\n",
              "\n",
              "      async function convertToInteractive(key) {\n",
              "        const element = document.querySelector('#df-53899397-d68c-4bf6-861d-813baf249b39');\n",
              "        const dataTable =\n",
              "          await google.colab.kernel.invokeFunction('convertToInteractive',\n",
              "                                                    [key], {});\n",
              "        if (!dataTable) return;\n",
              "\n",
              "        const docLinkHtml = 'Like what you see? Visit the ' +\n",
              "          '<a target=\"_blank\" href=https://colab.research.google.com/notebooks/data_table.ipynb>data table notebook</a>'\n",
              "          + ' to learn more about interactive tables.';\n",
              "        element.innerHTML = '';\n",
              "        dataTable['output_type'] = 'display_data';\n",
              "        await google.colab.output.renderOutput(dataTable, element);\n",
              "        const docLink = document.createElement('div');\n",
              "        docLink.innerHTML = docLinkHtml;\n",
              "        element.appendChild(docLink);\n",
              "      }\n",
              "    </script>\n",
              "  </div>\n",
              "\n",
              "\n",
              "    <div id=\"df-0bfef4b0-3022-41d0-ad32-8e0b001779f7\">\n",
              "      <button class=\"colab-df-quickchart\" onclick=\"quickchart('df-0bfef4b0-3022-41d0-ad32-8e0b001779f7')\"\n",
              "                title=\"Suggest charts\"\n",
              "                style=\"display:none;\">\n",
              "\n",
              "<svg xmlns=\"http://www.w3.org/2000/svg\" height=\"24px\"viewBox=\"0 0 24 24\"\n",
              "     width=\"24px\">\n",
              "    <g>\n",
              "        <path d=\"M19 3H5c-1.1 0-2 .9-2 2v14c0 1.1.9 2 2 2h14c1.1 0 2-.9 2-2V5c0-1.1-.9-2-2-2zM9 17H7v-7h2v7zm4 0h-2V7h2v10zm4 0h-2v-4h2v4z\"/>\n",
              "    </g>\n",
              "</svg>\n",
              "      </button>\n",
              "\n",
              "<style>\n",
              "  .colab-df-quickchart {\n",
              "      --bg-color: #E8F0FE;\n",
              "      --fill-color: #1967D2;\n",
              "      --hover-bg-color: #E2EBFA;\n",
              "      --hover-fill-color: #174EA6;\n",
              "      --disabled-fill-color: #AAA;\n",
              "      --disabled-bg-color: #DDD;\n",
              "  }\n",
              "\n",
              "  [theme=dark] .colab-df-quickchart {\n",
              "      --bg-color: #3B4455;\n",
              "      --fill-color: #D2E3FC;\n",
              "      --hover-bg-color: #434B5C;\n",
              "      --hover-fill-color: #FFFFFF;\n",
              "      --disabled-bg-color: #3B4455;\n",
              "      --disabled-fill-color: #666;\n",
              "  }\n",
              "\n",
              "  .colab-df-quickchart {\n",
              "    background-color: var(--bg-color);\n",
              "    border: none;\n",
              "    border-radius: 50%;\n",
              "    cursor: pointer;\n",
              "    display: none;\n",
              "    fill: var(--fill-color);\n",
              "    height: 32px;\n",
              "    padding: 0;\n",
              "    width: 32px;\n",
              "  }\n",
              "\n",
              "  .colab-df-quickchart:hover {\n",
              "    background-color: var(--hover-bg-color);\n",
              "    box-shadow: 0 1px 2px rgba(60, 64, 67, 0.3), 0 1px 3px 1px rgba(60, 64, 67, 0.15);\n",
              "    fill: var(--button-hover-fill-color);\n",
              "  }\n",
              "\n",
              "  .colab-df-quickchart-complete:disabled,\n",
              "  .colab-df-quickchart-complete:disabled:hover {\n",
              "    background-color: var(--disabled-bg-color);\n",
              "    fill: var(--disabled-fill-color);\n",
              "    box-shadow: none;\n",
              "  }\n",
              "\n",
              "  .colab-df-spinner {\n",
              "    border: 2px solid var(--fill-color);\n",
              "    border-color: transparent;\n",
              "    border-bottom-color: var(--fill-color);\n",
              "    animation:\n",
              "      spin 1s steps(1) infinite;\n",
              "  }\n",
              "\n",
              "  @keyframes spin {\n",
              "    0% {\n",
              "      border-color: transparent;\n",
              "      border-bottom-color: var(--fill-color);\n",
              "      border-left-color: var(--fill-color);\n",
              "    }\n",
              "    20% {\n",
              "      border-color: transparent;\n",
              "      border-left-color: var(--fill-color);\n",
              "      border-top-color: var(--fill-color);\n",
              "    }\n",
              "    30% {\n",
              "      border-color: transparent;\n",
              "      border-left-color: var(--fill-color);\n",
              "      border-top-color: var(--fill-color);\n",
              "      border-right-color: var(--fill-color);\n",
              "    }\n",
              "    40% {\n",
              "      border-color: transparent;\n",
              "      border-right-color: var(--fill-color);\n",
              "      border-top-color: var(--fill-color);\n",
              "    }\n",
              "    60% {\n",
              "      border-color: transparent;\n",
              "      border-right-color: var(--fill-color);\n",
              "    }\n",
              "    80% {\n",
              "      border-color: transparent;\n",
              "      border-right-color: var(--fill-color);\n",
              "      border-bottom-color: var(--fill-color);\n",
              "    }\n",
              "    90% {\n",
              "      border-color: transparent;\n",
              "      border-bottom-color: var(--fill-color);\n",
              "    }\n",
              "  }\n",
              "</style>\n",
              "\n",
              "      <script>\n",
              "        async function quickchart(key) {\n",
              "          const quickchartButtonEl =\n",
              "            document.querySelector('#' + key + ' button');\n",
              "          quickchartButtonEl.disabled = true;  // To prevent multiple clicks.\n",
              "          quickchartButtonEl.classList.add('colab-df-spinner');\n",
              "          try {\n",
              "            const charts = await google.colab.kernel.invokeFunction(\n",
              "                'suggestCharts', [key], {});\n",
              "          } catch (error) {\n",
              "            console.error('Error during call to suggestCharts:', error);\n",
              "          }\n",
              "          quickchartButtonEl.classList.remove('colab-df-spinner');\n",
              "          quickchartButtonEl.classList.add('colab-df-quickchart-complete');\n",
              "        }\n",
              "        (() => {\n",
              "          let quickchartButtonEl =\n",
              "            document.querySelector('#df-0bfef4b0-3022-41d0-ad32-8e0b001779f7 button');\n",
              "          quickchartButtonEl.style.display =\n",
              "            google.colab.kernel.accessAllowed ? 'block' : 'none';\n",
              "        })();\n",
              "      </script>\n",
              "    </div>\n",
              "\n",
              "  <div id=\"id_a11d63cd-0483-455f-a59a-265d4deb90c6\">\n",
              "    <style>\n",
              "      .colab-df-generate {\n",
              "        background-color: #E8F0FE;\n",
              "        border: none;\n",
              "        border-radius: 50%;\n",
              "        cursor: pointer;\n",
              "        display: none;\n",
              "        fill: #1967D2;\n",
              "        height: 32px;\n",
              "        padding: 0 0 0 0;\n",
              "        width: 32px;\n",
              "      }\n",
              "\n",
              "      .colab-df-generate:hover {\n",
              "        background-color: #E2EBFA;\n",
              "        box-shadow: 0px 1px 2px rgba(60, 64, 67, 0.3), 0px 1px 3px 1px rgba(60, 64, 67, 0.15);\n",
              "        fill: #174EA6;\n",
              "      }\n",
              "\n",
              "      [theme=dark] .colab-df-generate {\n",
              "        background-color: #3B4455;\n",
              "        fill: #D2E3FC;\n",
              "      }\n",
              "\n",
              "      [theme=dark] .colab-df-generate:hover {\n",
              "        background-color: #434B5C;\n",
              "        box-shadow: 0px 1px 3px 1px rgba(0, 0, 0, 0.15);\n",
              "        filter: drop-shadow(0px 1px 2px rgba(0, 0, 0, 0.3));\n",
              "        fill: #FFFFFF;\n",
              "      }\n",
              "    </style>\n",
              "    <button class=\"colab-df-generate\" onclick=\"generateWithVariable('df_museum')\"\n",
              "            title=\"Generate code using this dataframe.\"\n",
              "            style=\"display:none;\">\n",
              "\n",
              "  <svg xmlns=\"http://www.w3.org/2000/svg\" height=\"24px\"viewBox=\"0 0 24 24\"\n",
              "       width=\"24px\">\n",
              "    <path d=\"M7,19H8.4L18.45,9,17,7.55,7,17.6ZM5,21V16.75L18.45,3.32a2,2,0,0,1,2.83,0l1.4,1.43a1.91,1.91,0,0,1,.58,1.4,1.91,1.91,0,0,1-.58,1.4L9.25,21ZM18.45,9,17,7.55Zm-12,3A5.31,5.31,0,0,0,4.9,8.1,5.31,5.31,0,0,0,1,6.5,5.31,5.31,0,0,0,4.9,4.9,5.31,5.31,0,0,0,6.5,1,5.31,5.31,0,0,0,8.1,4.9,5.31,5.31,0,0,0,12,6.5,5.46,5.46,0,0,0,6.5,12Z\"/>\n",
              "  </svg>\n",
              "    </button>\n",
              "    <script>\n",
              "      (() => {\n",
              "      const buttonEl =\n",
              "        document.querySelector('#id_a11d63cd-0483-455f-a59a-265d4deb90c6 button.colab-df-generate');\n",
              "      buttonEl.style.display =\n",
              "        google.colab.kernel.accessAllowed ? 'block' : 'none';\n",
              "\n",
              "      buttonEl.onclick = () => {\n",
              "        google.colab.notebook.generateWithVariable('df_museum');\n",
              "      }\n",
              "      })();\n",
              "    </script>\n",
              "  </div>\n",
              "\n",
              "    </div>\n",
              "  </div>\n"
            ],
            "application/vnd.google.colaboratory.intrinsic+json": {
              "type": "dataframe",
              "variable_name": "df_museum",
              "summary": "{\n  \"name\": \"df_museum\",\n  \"rows\": 294,\n  \"fields\": [\n    {\n      \"column\": \"Testo\",\n      \"properties\": {\n        \"dtype\": \"string\",\n        \"num_unique_values\": 294,\n        \"samples\": [\n          \"Ritratto in avorio dell'epoca napoleonica\",\n          \"Vaso cinese della dinastia Ming con smalti blu e bianchi\",\n          \"African ritual mask in carved wood\"\n        ],\n        \"semantic_type\": \"\",\n        \"description\": \"\"\n      }\n    },\n    {\n      \"column\": \"Codice Lingua\",\n      \"properties\": {\n        \"dtype\": \"category\",\n        \"num_unique_values\": 3,\n        \"samples\": [\n          \"it\",\n          \"en\",\n          \"de\"\n        ],\n        \"semantic_type\": \"\",\n        \"description\": \"\"\n      }\n    }\n  ]\n}"
            }
          },
          "metadata": {},
          "execution_count": 4
        }
      ]
    },
    {
      "cell_type": "markdown",
      "source": [
        "Dalle funzioni info() e isna().sum(), applicate sull'intero dataset, si può notare che il dataset non contiene valori mancanti (o nulli), quindi non si dovrà applicare nessuna operazione di eliminazione di righe/colonne oppure imputazione(detta anche sostituzione) di valori mancanti con il valore della moda (dato che si hanno due variabili qualitative)"
      ],
      "metadata": {
        "id": "MDuXneH9WTQG"
      }
    },
    {
      "cell_type": "code",
      "source": [
        "print(df_museum.info())"
      ],
      "metadata": {
        "colab": {
          "base_uri": "https://localhost:8080/"
        },
        "id": "yieuM5iWWR5S",
        "outputId": "cd7f844c-4a25-47d7-a45f-7dc50a250d5d"
      },
      "execution_count": null,
      "outputs": [
        {
          "output_type": "stream",
          "name": "stdout",
          "text": [
            "<class 'pandas.core.frame.DataFrame'>\n",
            "RangeIndex: 294 entries, 0 to 293\n",
            "Data columns (total 2 columns):\n",
            " #   Column         Non-Null Count  Dtype \n",
            "---  ------         --------------  ----- \n",
            " 0   Testo          294 non-null    object\n",
            " 1   Codice Lingua  294 non-null    object\n",
            "dtypes: object(2)\n",
            "memory usage: 4.7+ KB\n",
            "None\n"
          ]
        }
      ]
    },
    {
      "cell_type": "code",
      "source": [
        "print(df_museum.isna().sum())"
      ],
      "metadata": {
        "colab": {
          "base_uri": "https://localhost:8080/"
        },
        "id": "qyLwls_uWYgE",
        "outputId": "a27b1e73-0158-4baf-f011-85cc13e9beac"
      },
      "execution_count": null,
      "outputs": [
        {
          "output_type": "stream",
          "name": "stdout",
          "text": [
            "Testo            0\n",
            "Codice Lingua    0\n",
            "dtype: int64\n"
          ]
        }
      ]
    },
    {
      "cell_type": "markdown",
      "source": [
        "Dalla funzione unique(), applicata sulla Series 'Codice Lingua', si possono notare solo tre valori:\n",
        "* it -> classe associata alle descrizioni in lingua italiana\n",
        "* en -> classe associata alle descrizioni in lingua inglese\n",
        "* de -> classe associata alle descrizioni in lingua tedesca"
      ],
      "metadata": {
        "id": "M3vp1j1TWd1k"
      }
    },
    {
      "cell_type": "code",
      "source": [
        "print(df_museum['Codice Lingua'].unique())"
      ],
      "metadata": {
        "colab": {
          "base_uri": "https://localhost:8080/"
        },
        "id": "qKlxBXiKWbIg",
        "outputId": "a9480666-84c2-4a28-bae2-f1365b46f6d1"
      },
      "execution_count": null,
      "outputs": [
        {
          "output_type": "stream",
          "name": "stdout",
          "text": [
            "['it' 'en' 'de']\n"
          ]
        }
      ]
    },
    {
      "cell_type": "markdown",
      "source": [
        "Dalla funzione value_counts(), applicata sulla Series 'Codice Lingua', si può notare un dataset bilanciato con 98 samples su ciascuna descrizione in lingua diversa"
      ],
      "metadata": {
        "id": "I-MhqMdaWkWK"
      }
    },
    {
      "cell_type": "code",
      "source": [
        "print(df_museum['Codice Lingua'].value_counts())"
      ],
      "metadata": {
        "colab": {
          "base_uri": "https://localhost:8080/"
        },
        "id": "tyUVb0whWjkO",
        "outputId": "2d355fe5-42a0-453c-b8c1-7950668025bf"
      },
      "execution_count": null,
      "outputs": [
        {
          "output_type": "stream",
          "name": "stdout",
          "text": [
            "Codice Lingua\n",
            "it    98\n",
            "en    98\n",
            "de    98\n",
            "Name: count, dtype: int64\n"
          ]
        }
      ]
    },
    {
      "cell_type": "markdown",
      "source": [
        "Funzione per effettuare Data Preprocessing sulle descrizioni delle opere museali/manufatti, con i seguenti passaggi:\n",
        "1. *Rimozione di eventuali valori numerici*, usando la funzione sub() della libreria re(=regular expression), sostituendo tutte le occorrenze di un pattern (espresso come espressione regolare) all'interno di una stringa con un’altra stringa specificata\n",
        "2. *Rimozione di eventuali URL*, usando la funzione sub() della libreria re(=regular expression), sostituendo tutte le occorrenze di un pattern (espresso come espressione regolare) all'interno di una stringa con un’altra stringa specificata.\n",
        "3. *Rimozione della punteggiatura*, usando string.punctuation(string.punctuation: !\"#$%&'()*+,-./:;<=>?@[\\]^_`{|}~) iterando su ciascun carattere speciale e se presente nella descrizione, sostituirlo con una stringa con carattere vuoto tramite la funzione replace().\n",
        "4. *Lower casing* su tutte le parole di ciascuna descrizione, portandole in lettera minuscola."
      ],
      "metadata": {
        "id": "r_kt6d8jXTqh"
      }
    },
    {
      "cell_type": "code",
      "source": [
        "def data_cleaner(description):\n",
        "\n",
        "    \"\"\"\n",
        "    Funzione per effettuare data preprocessing sulle descrizioni delle opere museali/manufatti, con i seguenti passaggi:\n",
        "    1. Rimozione di eventuali numeri\n",
        "    2. Rimozione di eventuali URL\n",
        "    3. Rimozione della punteggiatura\n",
        "    4. Lower casing\n",
        "\n",
        "    Input: description (class 'pandas.core.series.Series') -> descrizioni presenti nella Series 'Testo'\n",
        "    Output: description (class 'pandas.core.series.Series') -> descrizioni presenti nella Series 'Testo' pre-processate\n",
        "    \"\"\"\n",
        "\n",
        "    # rimozione di eventuali numeri\n",
        "    # sostituisce tutte le sequenze numeri con stringa vuota\n",
        "    description = re.sub(r'\\d+', '', description)\n",
        "\n",
        "    # rimozione di eventuali URL\n",
        "    # rimuove tutti gli URL che iniziano con \"http\", \"https\" o \"www\", seguiti da caratteri senza spazi (cioè fino al prossimo spazio)\n",
        "    description = re.sub(r'http\\S+|www\\S+|https\\S+', '', description)\n",
        "\n",
        "    # rimozione della punteggiatura\n",
        "    for c in string.punctuation:\n",
        "        description = description.replace(c, ' ')\n",
        "\n",
        "    # lowercasing, portando le parole in lettera minuscola\n",
        "    description = description.lower()\n",
        "\n",
        "    return description"
      ],
      "metadata": {
        "id": "Y7JK9IroWv8t"
      },
      "execution_count": null,
      "outputs": []
    },
    {
      "cell_type": "code",
      "source": [
        "descriptions_cleaned = df_museum['Testo'].apply(data_cleaner)"
      ],
      "metadata": {
        "id": "RskDaxDoelO5"
      },
      "execution_count": null,
      "outputs": []
    },
    {
      "cell_type": "code",
      "source": [
        "descriptions_cleaned"
      ],
      "metadata": {
        "colab": {
          "base_uri": "https://localhost:8080/",
          "height": 458
        },
        "id": "A1dALuIKgQCE",
        "outputId": "6ab05a29-8644-44fe-8e9e-5228ba84a108"
      },
      "execution_count": null,
      "outputs": [
        {
          "output_type": "execute_result",
          "data": {
            "text/plain": [
              "0      statua in marmo di un imperatore romano del ii...\n",
              "1             anfora greca con decorazioni a figure nere\n",
              "2      dipinto rinascimentale raffigurante la madonna...\n",
              "3             elmo corinzio in bronzo del vi secolo a c \n",
              "4             manoscritto medievale con miniature dorate\n",
              "                             ...                        \n",
              "289           wikinger anhänger mit darstellung von thor\n",
              "290    päpstliches bleisiegel mit dem bild des heilig...\n",
              "291      leder gürtel mit langobardischer bronzeschließe\n",
              "292    renaissance kupferbecken mit pflanzlichen must...\n",
              "293          helm mit kamm der samnitischen zivilisation\n",
              "Name: Testo, Length: 294, dtype: object"
            ],
            "text/html": [
              "<div>\n",
              "<style scoped>\n",
              "    .dataframe tbody tr th:only-of-type {\n",
              "        vertical-align: middle;\n",
              "    }\n",
              "\n",
              "    .dataframe tbody tr th {\n",
              "        vertical-align: top;\n",
              "    }\n",
              "\n",
              "    .dataframe thead th {\n",
              "        text-align: right;\n",
              "    }\n",
              "</style>\n",
              "<table border=\"1\" class=\"dataframe\">\n",
              "  <thead>\n",
              "    <tr style=\"text-align: right;\">\n",
              "      <th></th>\n",
              "      <th>Testo</th>\n",
              "    </tr>\n",
              "  </thead>\n",
              "  <tbody>\n",
              "    <tr>\n",
              "      <th>0</th>\n",
              "      <td>statua in marmo di un imperatore romano del ii...</td>\n",
              "    </tr>\n",
              "    <tr>\n",
              "      <th>1</th>\n",
              "      <td>anfora greca con decorazioni a figure nere</td>\n",
              "    </tr>\n",
              "    <tr>\n",
              "      <th>2</th>\n",
              "      <td>dipinto rinascimentale raffigurante la madonna...</td>\n",
              "    </tr>\n",
              "    <tr>\n",
              "      <th>3</th>\n",
              "      <td>elmo corinzio in bronzo del vi secolo a c</td>\n",
              "    </tr>\n",
              "    <tr>\n",
              "      <th>4</th>\n",
              "      <td>manoscritto medievale con miniature dorate</td>\n",
              "    </tr>\n",
              "    <tr>\n",
              "      <th>...</th>\n",
              "      <td>...</td>\n",
              "    </tr>\n",
              "    <tr>\n",
              "      <th>289</th>\n",
              "      <td>wikinger anhänger mit darstellung von thor</td>\n",
              "    </tr>\n",
              "    <tr>\n",
              "      <th>290</th>\n",
              "      <td>päpstliches bleisiegel mit dem bild des heilig...</td>\n",
              "    </tr>\n",
              "    <tr>\n",
              "      <th>291</th>\n",
              "      <td>leder gürtel mit langobardischer bronzeschließe</td>\n",
              "    </tr>\n",
              "    <tr>\n",
              "      <th>292</th>\n",
              "      <td>renaissance kupferbecken mit pflanzlichen must...</td>\n",
              "    </tr>\n",
              "    <tr>\n",
              "      <th>293</th>\n",
              "      <td>helm mit kamm der samnitischen zivilisation</td>\n",
              "    </tr>\n",
              "  </tbody>\n",
              "</table>\n",
              "<p>294 rows × 1 columns</p>\n",
              "</div><br><label><b>dtype:</b> object</label>"
            ]
          },
          "metadata": {},
          "execution_count": 13
        }
      ]
    },
    {
      "cell_type": "markdown",
      "source": [
        "Andiamo a selezionare e convertire in un array numpy monodimensionale:\n",
        "* la variabile descriptions_cleaned, con le descrizioni pre-processate, associandogli la variabile X\n",
        "* 'Codice Lingua', che sarebbe la variabile target, associandogli la variabile y"
      ],
      "metadata": {
        "id": "jqPiGoHNgqDD"
      }
    },
    {
      "cell_type": "code",
      "source": [
        "# X: array numpy monodimemsionale, con le feature pre-processate presenti nella variabile descriptions_cleaned\n",
        "X = descriptions_cleaned.values\n",
        "# y: array numpy monodimensionale, con i target della variabile Codice Lingua\n",
        "y = df_museum['Codice Lingua'].values"
      ],
      "metadata": {
        "id": "8aKiXqQLgSwK"
      },
      "execution_count": null,
      "outputs": []
    },
    {
      "cell_type": "code",
      "source": [
        "print(X)"
      ],
      "metadata": {
        "colab": {
          "base_uri": "https://localhost:8080/"
        },
        "id": "haHqFumLhM6D",
        "outputId": "83ed731c-3fe7-4853-8d24-ade92636ef2b"
      },
      "execution_count": null,
      "outputs": [
        {
          "output_type": "stream",
          "name": "stdout",
          "text": [
            "['statua in marmo di un imperatore romano del ii secolo'\n",
            " 'anfora greca con decorazioni a figure nere'\n",
            " 'dipinto rinascimentale raffigurante la madonna con il bambino'\n",
            " 'elmo corinzio in bronzo del vi secolo a c '\n",
            " 'manoscritto medievale con miniature dorate'\n",
            " 'scultura lignea gotica di un santo'\n",
            " 'spada vichinga con impugnatura decorata'\n",
            " 'maschera funeraria egizia in oro'\n",
            " 'tavoletta sumera con incisioni cuneiformi'\n",
            " 'vaso cinese della dinastia ming con smalti blu e bianchi'\n",
            " 'affresco pompeiano con scena mitologica'\n",
            " 'arpa barocca in legno intagliato e dorato'\n",
            " 'moneta d argento dell impero bizantino'\n",
            " 'armatura completa da cavaliere del xv secolo'\n",
            " 'fusaiola neolitica decorata' 'mosaico romano con motivi geometrici'\n",
            " 'scultura in bronzo raffigurante eracle'\n",
            " 'brocca etrusca con iscrizioni in alfabeto etrusco'\n",
            " 'pettine in osso dell epoca vichinga'\n",
            " 'elmo samurai con cresta ornamentale' 'anello sigillo dell antico egitto'\n",
            " 'tappeto persiano del xvii secolo con disegni floreali'\n",
            " 'pergamena con notazione musicale medievale'\n",
            " 'daga rituale in ossidiana delle civiltà precolombiane'\n",
            " 'miniatura persiana con scene di caccia'\n",
            " 'idolo votivo in terracotta della cultura nuragica'\n",
            " 'statuetta di divinità induista in bronzo'\n",
            " 'cassa di orologio barocco in legno intarsiato'\n",
            " 'collana fenicia in ambra e vetro colorato'\n",
            " 'scudo decorato degli indigeni amazzonici'\n",
            " 'bacchetta da rabdomante dell epoca romana'\n",
            " 'corno da caccia medievale intagliato'\n",
            " 'diorama egizio raffigurante la costruzione di una piramide'\n",
            " 'ritratto in avorio dell epoca napoleonica' 'elmo da gladiatore romano'\n",
            " 'pugnale con lama in cristallo di rocca precolombiano'\n",
            " 'vetrata gotica con scene bibliche'\n",
            " 'bottiglia di profumo in vetro soffiato veneziano'\n",
            " 'chiave di bronzo di una porta medievale'\n",
            " 'cilindro con iscrizioni geroglifiche egizie'\n",
            " 'coppa d oro della civiltà micenea'\n",
            " 'reliquiario gotico con smalti e pietre preziose'\n",
            " 'ascia in pietra levigata dell età della pietra'\n",
            " 'fibula in oro e smalto di epoca longobarda'\n",
            " 'vaso in porcellana con scene della vita di corte cinese'\n",
            " 'bracciale in argento dell epoca vichinga'\n",
            " 'carro da guerra in miniatura della civiltà assira'\n",
            " 'piatto ceramico ispano moresco del xiv secolo'\n",
            " 'maschera rituale africana in legno intagliato'\n",
            " 'dipinto barocco raffigurante una scena di caccia'\n",
            " 'spilla in oro con smalto cloisonné del periodo bizantino'\n",
            " 'statuetta votiva in bronzo della civiltà celtica'\n",
            " 'anfora romana con decorazioni in rilievo'\n",
            " 'elmo medievale con visiera mobile' 'idolo in giada della cultura olmeca'\n",
            " 'pergamena con scrittura runica vichinga'\n",
            " 'ciondolo egizio con simbolo dell occhio di horus'\n",
            " 'scultura maya in pietra raffigurante un sacerdote'\n",
            " 'vaso decorato con scene mitologiche della civiltà cretese'\n",
            " 'pettorale da armatura rinascimentale in acciaio brunito'\n",
            " 'papiro con testi sacri dell antico egitto'\n",
            " 'tamburo cerimoniale delle tribù native americane'\n",
            " 'sperone da cavaliere medievale in ferro battuto'\n",
            " 'sigillo cilindrico mesopotamico con incisioni'\n",
            " 'scettro rituale azteco con intarsi di turchese'\n",
            " 'mosaico bizantino con rappresentazione di cristo pantocratore'\n",
            " 'fiasca per pellegrini medievale in terracotta'\n",
            " 'spada con lama damascata e impugnatura in avorio'\n",
            " 'croce reliquiario gotica con gemme incastonate'\n",
            " 'piatto ceramico con decorazione ottomana in blu e bianco'\n",
            " 'statua di buddha in bronzo dorato della dinastia tang'\n",
            " 'medaglia commemorativa del periodo napoleonico'\n",
            " 'clessidra del xvi secolo con struttura in ottone'\n",
            " 'urna funeraria etrusca decorata con scene di banchetto'\n",
            " 'daga rituale tibetana con decorazioni in argento'\n",
            " 'tessuto precolombiano con motivi geometrici colorati'\n",
            " 'bastone da comando africano con incisioni rituali'\n",
            " 'bassorilievo romano in marmo con scena di battaglia'\n",
            " 'diadema in oro della civiltà tracia'\n",
            " 'strumento musicale antico in osso con fori per le note'\n",
            " 'elmo da cavaliere crociato con croce incisa'\n",
            " 'lampada a olio romana con raffigurazione di mercurio'\n",
            " 'moneta d oro dell impero persiano'\n",
            " 'bottiglia in vetro con smalti dorati della dinastia safavide'\n",
            " 'scudo persiano con decorazioni floreali incise'\n",
            " 'pettorale egizio con scarabeo sacro al centro'\n",
            " 'tavoletta votiva greca con iscrizioni incise'\n",
            " 'veste cerimoniale samurai in seta ricamata'\n",
            " 'pugnale scita con lama curva e decorazioni animali'\n",
            " 'bracciale in bronzo dell epoca celtica'\n",
            " 'vetrata medievale con rappresentazione di santi'\n",
            " 'statuetta in terracotta della civiltà della valle dell indo'\n",
            " 'scrigno medievale in legno con borchie in ferro'\n",
            " 'pendente vichingo con rappresentazione di thor'\n",
            " 'sigillo papale in piombo con immagine di san pietro'\n",
            " 'cintura in cuoio con fibbia longobarda in bronzo'\n",
            " 'bacile rinascimentale in rame inciso con motivi vegetali'\n",
            " 'elmo crestato della civiltà sannitica'\n",
            " 'marble statue of a roman emperor from the nd century'\n",
            " 'greek amphora with black figure decorations'\n",
            " 'renaissance painting depicting the madonna and child'\n",
            " 'corinthian bronze helmet from the th century bc'\n",
            " 'medieval manuscript with gilded miniatures'\n",
            " 'gothic wooden sculpture of a saint' 'viking sword with a decorated hilt'\n",
            " 'egyptian gold funerary mask'\n",
            " 'sumerian tablet with cuneiform inscriptions'\n",
            " 'ming dynasty chinese vase with blue and white enamels'\n",
            " 'pompeian fresco with a mythological scene'\n",
            " 'baroque harp in carved and gilded wood'\n",
            " 'silver coin from the byzantine empire'\n",
            " 'full knight s armor from the th century'\n",
            " 'decorated neolithic spindle whorl'\n",
            " 'roman mosaic with geometric patterns'\n",
            " 'bronze sculpture depicting heracles'\n",
            " 'etruscan jug with inscriptions in the etruscan alphabet'\n",
            " 'bone comb from the viking age' 'samurai helmet with an ornamental crest'\n",
            " 'ancient egyptian signet ring'\n",
            " 'th century persian carpet with floral patterns'\n",
            " 'medieval parchment with musical notation'\n",
            " 'obsidian ritual dagger from pre columbian civilizations'\n",
            " 'persian miniature depicting a hunting scene'\n",
            " 'terracotta votive idol from the nuragic culture'\n",
            " 'hindu deity figurine in bronze' 'baroque clock case in inlaid wood'\n",
            " 'phoenician necklace in amber and colored glass'\n",
            " 'decorated shield of amazonian indigenous people' 'roman era dowsing rod'\n",
            " 'medieval hunting horn  intricately carved'\n",
            " 'egyptian diorama depicting the construction of a pyramid'\n",
            " 'ivory portrait from the napoleonic era' 'roman gladiator helmet'\n",
            " 'pre columbian dagger with a rock crystal blade'\n",
            " 'gothic stained glass window with biblical scenes'\n",
            " 'venetian blown glass perfume bottle' 'bronze key from a medieval door'\n",
            " 'cylinder with egyptian hieroglyphic inscriptions'\n",
            " 'golden cup from the mycenaean civilization'\n",
            " 'gothic reliquary with enamels and precious stones'\n",
            " 'polished stone axe from the stone age'\n",
            " 'lombard era gold and enamel fibula'\n",
            " 'porcelain vase with scenes of chinese court life'\n",
            " 'silver viking bracelet'\n",
            " 'miniature war chariot from the assyrian civilization'\n",
            " 'hispano moresque ceramic plate from the th century'\n",
            " 'african ritual mask in carved wood'\n",
            " 'baroque painting depicting a hunting scene'\n",
            " 'byzantine era gold brooch with cloisonné enamel'\n",
            " 'bronze votive statuette from the celtic civilization'\n",
            " 'roman amphora with relief decorations'\n",
            " 'medieval helmet with a movable visor' 'olmec jade idol'\n",
            " 'viking parchment with runic script'\n",
            " 'egyptian pendant with the eye of horus symbol'\n",
            " 'mayan stone sculpture depicting a priest'\n",
            " 'decorated vase with mythological scenes from the minoan civilization'\n",
            " 'renaissance breastplate in burnished steel'\n",
            " 'papyrus with sacred texts from ancient egypt'\n",
            " 'ceremonial drum of native american tribes'\n",
            " 'medieval knight s spur in wrought iron'\n",
            " 'mesopotamian cylinder seal with engravings'\n",
            " 'aztec ritual scepter with turquoise inlays'\n",
            " 'byzantine mosaic depicting christ pantocrator'\n",
            " 'medieval pilgrim’s flask in terracotta'\n",
            " 'damascened sword with an ivory hilt'\n",
            " 'gothic reliquary cross with embedded gems'\n",
            " 'ceramic plate with ottoman blue and white decoration'\n",
            " 'golden bronze buddha statue from the tang dynasty'\n",
            " 'commemorative medal from the napoleonic period'\n",
            " 'th century hourglass with a brass structure'\n",
            " 'etruscan funerary urn decorated with banquet scenes'\n",
            " 'tibetan ritual dagger with silver decorations'\n",
            " 'pre columbian textile with geometric motifs'\n",
            " 'african command staff with ritual carvings'\n",
            " 'roman marble bas relief with a battle scene'\n",
            " 'thracian civilization gold diadem'\n",
            " 'ancient musical instrument in bone with note holes'\n",
            " 'crusader knight s helmet with an engraved cross'\n",
            " 'roman oil lamp depicting mercury' 'gold coin from the persian empire'\n",
            " 'glass bottle with golden enamels from the safavid dynasty'\n",
            " 'persian shield with engraved floral decorations'\n",
            " 'egyptian breastplate with a sacred scarab at the center'\n",
            " 'greek votive tablet with engraved inscriptions'\n",
            " 'samurai ceremonial robe in embroidered silk'\n",
            " 'scythian dagger with a curved blade and animal decorations'\n",
            " 'celtic era bronze bracelet'\n",
            " 'medieval stained glass window depicting saints'\n",
            " 'terracotta figurine from the indus valley civilization'\n",
            " 'medieval wooden chest with iron studs' 'viking pendant depicting thor'\n",
            " 'papal lead seal with an image of saint peter'\n",
            " 'leather belt with a lombard bronze buckle'\n",
            " 'renaissance copper basin engraved with vegetal motifs'\n",
            " 'crested helmet from the samnite civilization'\n",
            " 'marmorstatue eines römischen kaisers aus dem   jahrhundert'\n",
            " 'griechische amphore mit schwarzfigurigen verzierungen'\n",
            " 'renaissance gemälde der madonna mit kind'\n",
            " 'korinthischer bronzehelm aus dem   jahrhundert v  chr '\n",
            " 'mittelalterliches manuskript mit goldenen miniaturen'\n",
            " 'gotische holzskulptur eines heiligen'\n",
            " 'wikingerschwert mit verziertem griff' 'ägyptische goldene totenmaske'\n",
            " 'sumerische tontafel mit keilschriftinschriften'\n",
            " 'chinesische vase aus der ming dynastie mit blauen und weißen emaillemalereien'\n",
            " 'pompejanisches fresko mit mythologischer szene'\n",
            " 'barockharfe aus geschnitztem und vergoldetem holz'\n",
            " 'silbermünze aus dem byzantinischen reich'\n",
            " 'komplette ritterrüstung aus dem   jahrhundert'\n",
            " 'verzierte neolithische spinnwirtel'\n",
            " 'römisches mosaik mit geometrischen mustern'\n",
            " 'bronzeskulptur  die herakles darstellt'\n",
            " 'etruskische kanne mit inschriften im etruskischen alphabet'\n",
            " 'knochenkamm aus der wikingerzeit'\n",
            " 'samuraihelm mit ornamentaler verzierung'\n",
            " 'antiker ägyptischer siegelring'\n",
            " 'persischer teppich aus dem   jahrhundert mit blumenmustern'\n",
            " 'mittelalterliche pergamenthandschrift mit musiknotation'\n",
            " 'obsidiandolch aus präkolumbianischen zivilisationen'\n",
            " 'persische miniatur mit jagdszene'\n",
            " 'terrakotta votivfigur aus der nuraghen kultur'\n",
            " 'hinduistische götterfigur aus bronze'\n",
            " 'barocke uhrenkassette aus intarsienholz'\n",
            " 'phönizische halskette aus bernstein und farbigem glas'\n",
            " 'verziertes schild indigener amazonasvölker' 'römische wünschelrute'\n",
            " 'mittelalterliches jagdhorn  kunstvoll geschnitzt'\n",
            " 'ägyptisches diorama  das den bau einer pyramide darstellt'\n",
            " 'elfenbeinporträt aus der napoleonischen ära' 'römischer gladiatorenhelm'\n",
            " 'präkolumbianischer dolch mit klingen aus bergkristall'\n",
            " 'gotisches buntglasfenster mit biblischen szenen'\n",
            " 'venezianische parfümflasche aus mundgeblasenem glas'\n",
            " 'bronzeschlüssel einer mittelalterlichen tür'\n",
            " 'zylinder mit altägyptischen hieroglypheninschriften'\n",
            " 'goldene tasse der mykenischen zivilisation'\n",
            " 'gotisches reliquiar mit emaille und edelsteinen'\n",
            " 'polierte steinaxt aus der steinzeit'\n",
            " 'langobardische gold  und emailfibula'\n",
            " 'porzellanvase mit szenen aus dem chinesischen hofleben'\n",
            " 'silbernes wikingerarmband'\n",
            " 'miniatur kriegsszene mit streitwagen aus der assyrischen zivilisation'\n",
            " 'hispano maurisches keramikteller aus dem   jahrhundert'\n",
            " 'afrikanische ritualmaske aus geschnitztem holz'\n",
            " 'barockgemälde mit einer jagdszene'\n",
            " 'byzantinische goldbrosche mit cloisonné emaille'\n",
            " 'bronzene votivstatue aus der keltischen zivilisation'\n",
            " 'römische amphore mit reliefverzierungen'\n",
            " 'mittelalterlicher helm mit beweglichem visier' 'olmekischer jade idol'\n",
            " 'wikingerpergament mit runenschrift'\n",
            " 'ägyptischer anhänger mit dem symbol des horusauges'\n",
            " 'maya steinfigur  die einen priester darstellt'\n",
            " 'verzierte vase mit mythologischen szenen aus der minoischen zivilisation'\n",
            " 'renaissance brustpanzer aus brüniertem stahl'\n",
            " 'papyrus mit heiligen texten aus dem alten ägypten'\n",
            " 'zeremonielles trommel der nordamerikanischen ureinwohner'\n",
            " 'mittelalterlicher rittersporn aus schmiedeeisen'\n",
            " 'mesopotamischer zylindersiegel mit gravuren'\n",
            " 'aztekisches ritualzepter mit türkiseinlagen'\n",
            " 'byzantinisches mosaik mit darstellung von christus pantokrator'\n",
            " 'mittelalterliche pilgerflasche aus terrakotta'\n",
            " 'damaststahl schwert mit elfenbeingriff'\n",
            " 'gotisches reliquienkreuz mit eingefassten edelsteinen'\n",
            " 'keramikteller mit osmanischer dekoration in blau und weiß'\n",
            " 'goldene bronzestatue buddhas aus der tang dynastie'\n",
            " 'gedenkmedaille aus der napoleonischen zeit'\n",
            " 'sanduhr aus dem   jahrhundert mit messingrahmen'\n",
            " 'etruskische urne mit bankettszenen verziert'\n",
            " 'tibetischer ritualdolch mit silberverzierungen'\n",
            " 'präkolumbianischer stoff mit geometrischen mustern'\n",
            " 'afrikanischer zeremonienstab mit rituellen schnitzereien'\n",
            " 'römisches marmor relief mit einer kampfszene'\n",
            " 'goldenes diadem aus der thrakischen zivilisation'\n",
            " 'antikes musikinstrument aus knochen mit notenlöchern'\n",
            " 'kreuzritterhelm mit eingraviertem kreuz'\n",
            " 'römische öllampe mit merkur darstellung'\n",
            " 'goldmünze aus dem persischen reich'\n",
            " 'glasflasche mit goldenen emailleverzierungen aus der safawiden dynastie'\n",
            " 'persischer schild mit gravierten blumenmustern'\n",
            " 'ägyptischer brustpanzer mit einem heiligen skarabäus in der mitte'\n",
            " 'griechische votivtafel mit eingravierten inschriften'\n",
            " 'samurai zeremoniengewand aus bestickter seide'\n",
            " 'skythischer dolch mit gebogener klinge und tierverzierungen'\n",
            " 'bronzearmband aus der keltischen epoche'\n",
            " 'mittelalterliches buntglasfenster mit heiligendarstellungen'\n",
            " 'terrakotta figur aus der indus kultur'\n",
            " 'mittelalterliche holztruhe mit eisennieten'\n",
            " 'wikinger anhänger mit darstellung von thor'\n",
            " 'päpstliches bleisiegel mit dem bild des heiligen petrus'\n",
            " 'leder gürtel mit langobardischer bronzeschließe'\n",
            " 'renaissance kupferbecken mit pflanzlichen mustern graviert'\n",
            " 'helm mit kamm der samnitischen zivilisation']\n"
          ]
        }
      ]
    },
    {
      "cell_type": "code",
      "source": [
        "print(y)"
      ],
      "metadata": {
        "colab": {
          "base_uri": "https://localhost:8080/"
        },
        "id": "yRzWCrkYhRyr",
        "outputId": "564ceb6b-d86f-451d-c426-04ead3a1ccfc"
      },
      "execution_count": null,
      "outputs": [
        {
          "output_type": "stream",
          "name": "stdout",
          "text": [
            "['it' 'it' 'it' 'it' 'it' 'it' 'it' 'it' 'it' 'it' 'it' 'it' 'it' 'it'\n",
            " 'it' 'it' 'it' 'it' 'it' 'it' 'it' 'it' 'it' 'it' 'it' 'it' 'it' 'it'\n",
            " 'it' 'it' 'it' 'it' 'it' 'it' 'it' 'it' 'it' 'it' 'it' 'it' 'it' 'it'\n",
            " 'it' 'it' 'it' 'it' 'it' 'it' 'it' 'it' 'it' 'it' 'it' 'it' 'it' 'it'\n",
            " 'it' 'it' 'it' 'it' 'it' 'it' 'it' 'it' 'it' 'it' 'it' 'it' 'it' 'it'\n",
            " 'it' 'it' 'it' 'it' 'it' 'it' 'it' 'it' 'it' 'it' 'it' 'it' 'it' 'it'\n",
            " 'it' 'it' 'it' 'it' 'it' 'it' 'it' 'it' 'it' 'it' 'it' 'it' 'it' 'it'\n",
            " 'en' 'en' 'en' 'en' 'en' 'en' 'en' 'en' 'en' 'en' 'en' 'en' 'en' 'en'\n",
            " 'en' 'en' 'en' 'en' 'en' 'en' 'en' 'en' 'en' 'en' 'en' 'en' 'en' 'en'\n",
            " 'en' 'en' 'en' 'en' 'en' 'en' 'en' 'en' 'en' 'en' 'en' 'en' 'en' 'en'\n",
            " 'en' 'en' 'en' 'en' 'en' 'en' 'en' 'en' 'en' 'en' 'en' 'en' 'en' 'en'\n",
            " 'en' 'en' 'en' 'en' 'en' 'en' 'en' 'en' 'en' 'en' 'en' 'en' 'en' 'en'\n",
            " 'en' 'en' 'en' 'en' 'en' 'en' 'en' 'en' 'en' 'en' 'en' 'en' 'en' 'en'\n",
            " 'en' 'en' 'en' 'en' 'en' 'en' 'en' 'en' 'en' 'en' 'en' 'en' 'en' 'en'\n",
            " 'de' 'de' 'de' 'de' 'de' 'de' 'de' 'de' 'de' 'de' 'de' 'de' 'de' 'de'\n",
            " 'de' 'de' 'de' 'de' 'de' 'de' 'de' 'de' 'de' 'de' 'de' 'de' 'de' 'de'\n",
            " 'de' 'de' 'de' 'de' 'de' 'de' 'de' 'de' 'de' 'de' 'de' 'de' 'de' 'de'\n",
            " 'de' 'de' 'de' 'de' 'de' 'de' 'de' 'de' 'de' 'de' 'de' 'de' 'de' 'de'\n",
            " 'de' 'de' 'de' 'de' 'de' 'de' 'de' 'de' 'de' 'de' 'de' 'de' 'de' 'de'\n",
            " 'de' 'de' 'de' 'de' 'de' 'de' 'de' 'de' 'de' 'de' 'de' 'de' 'de' 'de'\n",
            " 'de' 'de' 'de' 'de' 'de' 'de' 'de' 'de' 'de' 'de' 'de' 'de' 'de' 'de']\n"
          ]
        }
      ]
    },
    {
      "cell_type": "markdown",
      "source": [
        "Applicazione della tecnica di Cross Validation->Hold-out, per la suddivisione del dataset in set di addestramento(train) e test, associando il 20% dei pesi al test_set"
      ],
      "metadata": {
        "id": "WwjlVl2HheiK"
      }
    },
    {
      "cell_type": "code",
      "source": [
        "X_train, X_test, y_train, y_test = train_test_split(X, y, test_size=0.2, random_state=RANDOM_SEED)"
      ],
      "metadata": {
        "id": "5i27mTQKhZVx"
      },
      "execution_count": null,
      "outputs": []
    },
    {
      "cell_type": "code",
      "source": [
        "print(f\"shape X_train: {X_train.shape}\")\n",
        "print(f\"shape X_test: {X_test.shape}\")\n",
        "print(f\"shape y_train: {y_train.shape}\")\n",
        "print(f\"shape y_test: {y_test.shape}\")"
      ],
      "metadata": {
        "colab": {
          "base_uri": "https://localhost:8080/"
        },
        "id": "ToB_HhBuhpNQ",
        "outputId": "8a5129a0-d629-4013-8696-4073d112a39c"
      },
      "execution_count": null,
      "outputs": [
        {
          "output_type": "stream",
          "name": "stdout",
          "text": [
            "shape X_train: (235,)\n",
            "shape X_test: (59,)\n",
            "shape y_train: (235,)\n",
            "shape y_test: (59,)\n"
          ]
        }
      ]
    },
    {
      "cell_type": "markdown",
      "source": [
        "I dati contenuti in X_train e X_test sono rappresentati da descrizioni (che sono dati testuali non strutturati), pertanto è necessario convertirli in una forma numerica e strutturata per poterli utilizzare in un modello di Machine Learning. Una tecnica comunemente usata nel Natural Language Processing (NLP) è il modello Bag of Words (BoW). Questo approccio consente di rappresentare ciascuna descrizione di opera museale/manufatto come un vettore, che conta la frequenza di ogni parola ignorando l’ordine in cui compaiono i termini.\n",
        "\n",
        "Il modello Bag of Words si basa su due concetti chiave:\n",
        "1. Vocabolario: l’insieme di tutte le parole uniche presenti nel dataset.\n",
        "2. Misure: permettono di pesare la presenza delle parole nei documenti.\n",
        "\n",
        "Utilizzerò TfidfVectorizer di scikit-learn, dove:\n",
        "* Tf (Term Frequency): indica la frequenza con cui un termine appare nel documento.\n",
        "* idf (inverse document frequency): indica quante volte quanti documenti contengono la parola corrente, rispetto all’interno del corpus documentale."
      ],
      "metadata": {
        "id": "4A8ek9mYhyFC"
      }
    },
    {
      "cell_type": "code",
      "source": [
        "def tfidfvectorizer(data, tfidf_vectorizer=None):\n",
        "\n",
        "    \"\"\"\n",
        "    Applica TfIdfVectorizer su un insieme di testi per ottenere una rappresentazione numerica basata sulla frequenza dei termini.\n",
        "\n",
        "    Parametri:\n",
        "      - data: lista di descrizioni testuali (pre-processate) di opere museali o manufatti.\n",
        "      - tfidf_vectorizer: istanza della classe TfIdfVectorizer:\n",
        "         - se None, viene creata e addestrata una nuova istanza (fit + transform).\n",
        "         - se fornita, viene utilizzata solo per trasformare i dati in base al vocabolario già appreso (solo transform).\n",
        "\n",
        "    Output:\n",
        "      - tfidf: matrice numerica (shape: n_samples x n_features) ottenuta applicando il TF-IDF alle descrizioni.\n",
        "      - tfidf_vectorizer: oggetto TfIdfVectorizer addestrato o utilizzato per la trasformazione.\n",
        "    \"\"\"\n",
        "\n",
        "    if tfidf_vectorizer == None:\n",
        "        # fase di addestramento: crea e addestra una nuova istanza di TfIdfVectorizer sui dati forniti, costruendo il vocabolario e calcolando per ciascun documento il valore TF-IDF relativo a ciascun termine\n",
        "        tfidf_vectorizer = TfidfVectorizer()\n",
        "        tfidf = tfidf_vectorizer.fit_transform(data)\n",
        "    else:\n",
        "        # fase di test: utilizza un vettorizzatore pre-addestrato per convertire nuovi dati testuali, applicando il vocabolario e le statistiche già calcolate nella fase di training\n",
        "        tfidf = tfidf_vectorizer.transform(data)\n",
        "\n",
        "    # la funzione restituisce sia la matrice TF-IDF (convertita in array numpy), sia il vettorizzatore utilizzato\n",
        "    return tfidf.toarray(), tfidf_vectorizer"
      ],
      "metadata": {
        "id": "-UafV5P1VUlp"
      },
      "execution_count": null,
      "outputs": []
    },
    {
      "cell_type": "code",
      "source": [
        "train_descriptions_cleaned_and_vectorized, tfidf_vectorized = tfidfvectorizer(X_train)\n",
        "test_descriptions_cleaned_and_vectorized,  _ = tfidfvectorizer(X_test, tfidf_vectorized)"
      ],
      "metadata": {
        "id": "P534sXXmWuHb"
      },
      "execution_count": null,
      "outputs": []
    },
    {
      "cell_type": "markdown",
      "source": [
        "Matrice numerica risultante dall'applicazione di TfIdfVectorizer, del set di train"
      ],
      "metadata": {
        "id": "8NW2x9wLTd0H"
      }
    },
    {
      "cell_type": "code",
      "source": [
        "print(train_descriptions_cleaned_and_vectorized)"
      ],
      "metadata": {
        "id": "PyZZxnIOTeRB",
        "colab": {
          "base_uri": "https://localhost:8080/"
        },
        "outputId": "dfd296af-2c90-43f3-ee49-1c1fafd33d50"
      },
      "execution_count": null,
      "outputs": [
        {
          "output_type": "stream",
          "name": "stdout",
          "text": [
            "[[0. 0. 0. ... 0. 0. 0.]\n",
            " [0. 0. 0. ... 0. 0. 0.]\n",
            " [0. 0. 0. ... 0. 0. 0.]\n",
            " ...\n",
            " [0. 0. 0. ... 0. 0. 0.]\n",
            " [0. 0. 0. ... 0. 0. 0.]\n",
            " [0. 0. 0. ... 0. 0. 0.]]\n"
          ]
        }
      ]
    },
    {
      "cell_type": "markdown",
      "source": [
        "Matrice numerica risultante dall'applicazione di TfIdfVectorizer, del set di test"
      ],
      "metadata": {
        "id": "dgW2ARabbWIX"
      }
    },
    {
      "cell_type": "code",
      "source": [
        "print(test_descriptions_cleaned_and_vectorized)"
      ],
      "metadata": {
        "colab": {
          "base_uri": "https://localhost:8080/"
        },
        "id": "1K1yrZP_bTFB",
        "outputId": "e9250b97-6ca3-4d62-fb23-e1b0b003cc3a"
      },
      "execution_count": null,
      "outputs": [
        {
          "output_type": "stream",
          "name": "stdout",
          "text": [
            "[[0. 0. 0. ... 0. 0. 0.]\n",
            " [0. 0. 0. ... 0. 0. 0.]\n",
            " [0. 0. 0. ... 0. 0. 0.]\n",
            " ...\n",
            " [0. 0. 0. ... 0. 0. 0.]\n",
            " [0. 0. 0. ... 0. 0. 0.]\n",
            " [0. 0. 0. ... 0. 0. 0.]]\n"
          ]
        }
      ]
    },
    {
      "cell_type": "markdown",
      "source": [
        "Lunghezza delle matrici numeriche ottenute, dei set di addestramento e test"
      ],
      "metadata": {
        "id": "u4in75kwbdH2"
      }
    },
    {
      "cell_type": "code",
      "source": [
        "print(f\"lunghezza della matrice numerica del set di train: {len(train_descriptions_cleaned_and_vectorized)}\")\n",
        "print(f\"lunghezza della matrice numerica del set di train: {len(test_descriptions_cleaned_and_vectorized)}\")"
      ],
      "metadata": {
        "colab": {
          "base_uri": "https://localhost:8080/"
        },
        "id": "-poVTM0LbYgy",
        "outputId": "66f3b926-41db-466a-f9a0-225dfe15a2b2"
      },
      "execution_count": null,
      "outputs": [
        {
          "output_type": "stream",
          "name": "stdout",
          "text": [
            "lunghezza della matrice numerica del set di train: 235\n",
            "lunghezza della matrice numerica del set di train: 59\n"
          ]
        }
      ]
    },
    {
      "cell_type": "markdown",
      "source": [
        "Parole(Token) presenti nel dizionario"
      ],
      "metadata": {
        "id": "N8Nr-cO_cS-M"
      }
    },
    {
      "cell_type": "code",
      "source": [
        "print(tfidf_vectorized.get_feature_names_out())"
      ],
      "metadata": {
        "colab": {
          "base_uri": "https://localhost:8080/"
        },
        "id": "48GwuOMrcWIk",
        "outputId": "8e03bc96-4fe5-47ad-9efd-3efb3136cf8f"
      },
      "execution_count": null,
      "outputs": [
        {
          "output_type": "stream",
          "name": "stdout",
          "text": [
            "['affresco' 'african' 'africana' 'africano' 'afrikanische' 'afrikanischer'\n",
            " 'age' 'al' 'alfabeto' 'alphabet' 'alten' 'altägyptischen' 'amazonian'\n",
            " 'amazzonici' 'ambra' 'american' 'americane' 'amphora' 'amphore' 'an'\n",
            " 'ancient' 'and' 'anello' 'anfora' 'anhänger' 'animal' 'animali' 'antico'\n",
            " 'antikes' 'armatura' 'arpa' 'ascia' 'assira' 'assyrischen' 'at' 'aus'\n",
            " 'avorio' 'axe' 'aztec' 'azteco' 'aztekisches' 'bacchetta' 'bacile'\n",
            " 'bambino' 'bankettszenen' 'banquet' 'barocca' 'barocco' 'barocke'\n",
            " 'baroque' 'bas' 'basin' 'bassorilievo' 'bastone' 'battaglia' 'battle'\n",
            " 'battuto' 'bau' 'belt' 'bergkristall' 'bernstein' 'bestickter'\n",
            " 'beweglichem' 'bianchi' 'bianco' 'biblical' 'bibliche' 'biblischen'\n",
            " 'bild' 'bizantino' 'black' 'blade' 'blau' 'blauen' 'bleisiegel' 'blown'\n",
            " 'blu' 'blue' 'blumenmustern' 'bone' 'borchie' 'bottiglia' 'bottle'\n",
            " 'bracelet' 'brass' 'breastplate' 'brocca' 'bronze' 'bronzearmband'\n",
            " 'bronzeschließe' 'bronzeschlüssel' 'bronzestatue' 'bronzo' 'brooch'\n",
            " 'brustpanzer' 'brüniertem' 'buckle' 'buddha' 'buddhas' 'buntglasfenster'\n",
            " 'byzantine' 'byzantinische' 'byzantinischen' 'byzantinisches' 'caccia'\n",
            " 'carpet' 'carro' 'carved' 'carvings' 'case' 'cassa' 'cavaliere' 'celtic'\n",
            " 'celtica' 'center' 'centro' 'century' 'ceramic' 'ceramico' 'ceremonial'\n",
            " 'cerimoniale' 'chest' 'chiave' 'child' 'chinese' 'chinesische'\n",
            " 'chinesischen' 'christ' 'christus' 'cilindro' 'cinese' 'cintura'\n",
            " 'ciondolo' 'civilization' 'civilizations' 'civiltà' 'clessidra' 'clock'\n",
            " 'cloisonné' 'coin' 'collana' 'colorati' 'colorato' 'columbian' 'comando'\n",
            " 'comb' 'command' 'commemorativa' 'commemorative' 'completa' 'con'\n",
            " 'construction' 'coppa' 'copper' 'corinzio' 'corno' 'corte' 'costruzione'\n",
            " 'court' 'crest' 'cresta' 'crestato' 'crested' 'cretese' 'cristallo'\n",
            " 'cristo' 'croce' 'crociato' 'cross' 'crusader' 'crystal' 'cultura'\n",
            " 'culture' 'cuoio' 'cup' 'curva' 'curved' 'cylinder' 'da' 'daga' 'dagger'\n",
            " 'damascata' 'damascened' 'darstellt' 'darstellung' 'das' 'decorata'\n",
            " 'decorated' 'decorations' 'decorato' 'decorazione' 'decorazioni' 'degli'\n",
            " 'dekoration' 'del' 'dell' 'della' 'delle' 'dem' 'den' 'depicting' 'der'\n",
            " 'des' 'di' 'diadem' 'diadema' 'die' 'dinastia' 'diorama' 'dipinto'\n",
            " 'disegni' 'divinità' 'dolch' 'dorate' 'dorati' 'dorato' 'dowsing' 'drum'\n",
            " 'dynastie' 'dynasty' 'edelsteinen' 'egitto' 'egizie' 'egizio' 'egyptian'\n",
            " 'einem' 'einen' 'einer' 'eines' 'eingravierten' 'elfenbeinporträt' 'elmo'\n",
            " 'emaille' 'emaillemalereien' 'embedded' 'embroidered' 'emperor' 'empire'\n",
            " 'enamel' 'enamels' 'engraved' 'engravings' 'epoca' 'epoche' 'era'\n",
            " 'eracle' 'etrusca' 'etruscan' 'etrusco' 'etruskische' 'età' 'eye'\n",
            " 'farbigem' 'fenicia' 'ferro' 'fiasca' 'fibbia' 'fibula' 'figure'\n",
            " 'figurine' 'flask' 'floral' 'floreali' 'fori' 'fresco' 'from' 'funerary'\n",
            " 'fusaiola' 'gedenkmedaille' 'gemme' 'gems' 'gemälde' 'geometric'\n",
            " 'geometrici' 'geometrischen' 'geroglifiche' 'geschnitztem' 'giada'\n",
            " 'gilded' 'gladiator' 'gladiatore' 'glas' 'glass' 'gold' 'goldbrosche'\n",
            " 'golden' 'goldene' 'goldenen' 'goldenes' 'goldmünze' 'gothic' 'gotica'\n",
            " 'gotico' 'gotische' 'gotisches' 'graviert' 'gravierten' 'gravuren'\n",
            " 'greca' 'greek' 'griechische' 'griff' 'guerra' 'götterfigur' 'gürtel'\n",
            " 'halskette' 'harp' 'heiligen' 'heiligendarstellungen' 'helm' 'helmet'\n",
            " 'heracles' 'hieroglypheninschriften' 'hieroglyphic' 'hilt'\n",
            " 'hinduistische' 'hispano' 'hofleben' 'holes' 'holz' 'holzskulptur'\n",
            " 'horus' 'hourglass' 'hunting' 'idol' 'idolo' 'ii' 'il' 'image' 'immagine'\n",
            " 'imperatore' 'impero' 'impugnatura' 'in' 'incastonate' 'incisa' 'incise'\n",
            " 'incisioni' 'inciso' 'indigeni' 'indigenous' 'indo' 'induista' 'indus'\n",
            " 'inlaid' 'inlays' 'inschriften' 'inscriptions' 'instrument' 'intagliato'\n",
            " 'intarsi' 'intarsiato' 'intarsienholz' 'iron' 'iscrizioni' 'ispano'\n",
            " 'ivory' 'jade' 'jagdszene' 'jahrhundert' 'jug' 'kaisers' 'kampfszene'\n",
            " 'keilschriftinschriften' 'keltischen' 'keramikteller' 'kind' 'klingen'\n",
            " 'knight' 'knochen' 'knochenkamm' 'komplette' 'kriegsszene' 'kultur'\n",
            " 'kupferbecken' 'la' 'lama' 'lamp' 'langobardischer' 'le' 'lead' 'leather'\n",
            " 'leder' 'legno' 'levigata' 'life' 'lombard' 'longobarda' 'madonna'\n",
            " 'manoscritto' 'manuscript' 'manuskript' 'marble' 'marmo' 'marmor'\n",
            " 'marmorstatue' 'maschera' 'mask' 'maurisches' 'maya' 'mayan' 'medaglia'\n",
            " 'medal' 'medieval' 'medievale' 'mercury' 'merkur' 'mesopotamian'\n",
            " 'mesopotamischer' 'messingrahmen' 'micenea' 'ming' 'miniatur' 'miniatura'\n",
            " 'miniature' 'miniaturen' 'miniatures' 'minoan' 'minoischen' 'mit'\n",
            " 'mitologica' 'mitologiche' 'mitte' 'mittelalterliche' 'mittelalterlichen'\n",
            " 'mittelalterlicher' 'mittelalterliches' 'mobile' 'moneta' 'moresco'\n",
            " 'moresque' 'mosaic' 'mosaico' 'mosaik' 'motifs' 'motivi' 'movable'\n",
            " 'musical' 'musicale' 'musikinstrument' 'musiknotation' 'mustern'\n",
            " 'mycenaean' 'mykenischen' 'mythological' 'mythologischen' 'napoleonic'\n",
            " 'napoleonica' 'napoleonico' 'napoleonischen' 'native' 'nd' 'neolithic'\n",
            " 'neolitica' 'nere' 'nordamerikanischen' 'notation' 'note' 'notenlöchern'\n",
            " 'nuraghen' 'nuragic' 'nuragica' 'obsidian' 'obsidiandolch' 'occhio' 'of'\n",
            " 'oil' 'olmec' 'olmeca' 'ornamental' 'ornamentale' 'oro' 'orologio'\n",
            " 'osmanischer' 'ossidiana' 'osso' 'ottomana' 'ottone' 'painting'\n",
            " 'pantocrator' 'pantocratore' 'pantokrator' 'papal' 'papale' 'papiro'\n",
            " 'papyrus' 'parchment' 'patterns' 'pellegrini' 'pendant' 'pendente'\n",
            " 'people' 'per' 'perfume' 'pergamenthandschrift' 'period' 'periodo'\n",
            " 'persian' 'persiana' 'persiano' 'persische' 'persischen' 'persischer'\n",
            " 'peter' 'petrus' 'pettine' 'pettorale' 'pflanzlichen' 'phönizische'\n",
            " 'piatto' 'pietra' 'pietre' 'pietro' 'pilgerflasche' 'pilgrim' 'piombo'\n",
            " 'piramide' 'plate' 'polierte' 'polished' 'pompeian' 'pompeiano'\n",
            " 'porcelain' 'porcellana' 'porta' 'portrait' 'porzellanvase' 'pre'\n",
            " 'precolombiane' 'precolombiano' 'preziose' 'priest' 'priester' 'profumo'\n",
            " 'präkolumbianischen' 'präkolumbianischer' 'pugnale' 'pyramid' 'pyramide'\n",
            " 'päpstliches' 'rabdomante' 'raffigurante' 'rame' 'rappresentazione'\n",
            " 'reich' 'relief' 'reliefverzierungen' 'reliquary' 'reliquiar'\n",
            " 'reliquiario' 'renaissance' 'ricamata' 'rilievo' 'rinascimentale'\n",
            " 'ritratto' 'ritterrüstung' 'rittersporn' 'ritual' 'ritualdolch' 'rituale'\n",
            " 'rituali' 'ritualmaske' 'ritualzepter' 'rituellen' 'robe' 'rocca' 'rock'\n",
            " 'rod' 'roman' 'romana' 'romano' 'runenschrift' 'römische' 'römischen'\n",
            " 'römisches' 'sacerdote' 'sacred' 'sacri' 'sacro' 'safavid' 'safavide'\n",
            " 'saint' 'samnite' 'samurai' 'san' 'sanduhr' 'sannitica' 'scarab'\n",
            " 'scarabeo' 'scena' 'scene' 'scenes' 'scepter' 'scettro' 'schild'\n",
            " 'schmiedeeisen' 'schnitzereien' 'schwarzfigurigen' 'scita' 'scrigno'\n",
            " 'scudo' 'sculpture' 'scultura' 'scythian' 'seal' 'secolo' 'seide' 'seta'\n",
            " 'shield' 'sigillo' 'silbermünze' 'silbernes' 'silberverzierungen' 'silk'\n",
            " 'silver' 'simbolo' 'skarabäus' 'smalti' 'smalto' 'soffiato' 'spada'\n",
            " 'sperone' 'spilla' 'spindle' 'spur' 'staff' 'stahl' 'stained' 'statua'\n",
            " 'statue' 'statuetta' 'statuette' 'steinaxt' 'steinfigur' 'steinzeit'\n",
            " 'stoff' 'stone' 'streitwagen' 'structure' 'strumento' 'struttura' 'studs'\n",
            " 'sumerische' 'sword' 'symbol' 'szenen' 'tamburo' 'tang' 'tappeto' 'tasse'\n",
            " 'tavoletta' 'teppich' 'terracotta' 'terrakotta' 'tessuto' 'testi'\n",
            " 'texten' 'textile' 'th' 'the' 'thor' 'thrakischen' 'tibetan'\n",
            " 'tibetischer' 'tontafel' 'totenmaske' 'tracia' 'tribes' 'tribù' 'trommel'\n",
            " 'turchese' 'turquoise' 'tür' 'türkiseinlagen' 'uhrenkassette' 'un' 'una'\n",
            " 'und' 'ureinwohner' 'urn' 'urne' 'valle' 'valley' 'vase' 'vaso' 'vegetal'\n",
            " 'vegetali' 'venetian' 'veneziano' 'verziert' 'verzierte' 'verziertem'\n",
            " 'verzierungen' 'veste' 'vetrata' 'vetro' 'vi' 'vichinga' 'vichingo'\n",
            " 'viking' 'visier' 'visiera' 'visor' 'vita' 'von' 'votiva' 'votive'\n",
            " 'votivfigur' 'votivo' 'votivtafel' 'weiß' 'weißen' 'white' 'whorl'\n",
            " 'wikinger' 'wikingerarmband' 'wikingerpergament' 'wikingerschwert'\n",
            " 'wikingerzeit' 'window' 'with' 'wood' 'wooden' 'wrought' 'wünschelrute'\n",
            " 'xiv' 'xv' 'xvi' 'xvii' 'zeit' 'zeremonielles' 'zeremoniengewand'\n",
            " 'zeremonienstab' 'zivilisation' 'zivilisationen' 'zylinder'\n",
            " 'zylindersiegel' 'ägypten' 'ägyptische' 'ägyptischer' 'ägyptisches' 'ära'\n",
            " 'öllampe']\n"
          ]
        }
      ]
    },
    {
      "cell_type": "markdown",
      "source": [
        "Dimensione del vocabolario"
      ],
      "metadata": {
        "id": "B5AzTbMQboIk"
      }
    },
    {
      "cell_type": "code",
      "source": [
        "print(f\"dimensione del vocabolario: {len(tfidf_vectorized.vocabulary_)}\")"
      ],
      "metadata": {
        "colab": {
          "base_uri": "https://localhost:8080/"
        },
        "id": "vThUhps4bmum",
        "outputId": "6c89e5b5-e55c-41d4-c882-ca885a544d08"
      },
      "execution_count": null,
      "outputs": [
        {
          "output_type": "stream",
          "name": "stdout",
          "text": [
            "dimensione del vocabolario: 743\n"
          ]
        }
      ]
    },
    {
      "cell_type": "markdown",
      "source": [
        "Vocabolario"
      ],
      "metadata": {
        "id": "KQ6cRmodbzuo"
      }
    },
    {
      "cell_type": "code",
      "source": [
        "print(tfidf_vectorized.vocabulary_)"
      ],
      "metadata": {
        "colab": {
          "base_uri": "https://localhost:8080/"
        },
        "id": "8ye2xUu5buO7",
        "outputId": "0d94f1fb-b337-4c36-e6b7-603cb6ffcde2"
      },
      "execution_count": null,
      "outputs": [
        {
          "output_type": "stream",
          "name": "stdout",
          "text": [
            "{'venetian': 687, 'blown': 75, 'glass': 282, 'perfume': 493, 'bottle': 82, 'scettro': 593, 'rituale': 559, 'azteco': 39, 'con': 150, 'intarsi': 350, 'di': 203, 'turchese': 670, 'anello': 22, 'sigillo': 609, 'dell': 195, 'antico': 27, 'egitto': 221, 'carro': 106, 'da': 178, 'guerra': 302, 'in': 333, 'miniatura': 413, 'della': 196, 'civiltà': 135, 'assira': 32, 'roman': 568, 'amphora': 17, 'with': 720, 'relief': 545, 'decorations': 188, 'obsidiandolch': 463, 'aus': 35, 'präkolumbianischen': 534, 'zivilisationen': 734, 'etruscan': 247, 'funerary': 266, 'urn': 679, 'decorated': 187, 'banquet': 45, 'scenes': 591, 'cassa': 110, 'orologio': 472, 'barocco': 47, 'legno': 383, 'intarsiato': 351, 'marble': 392, 'bas': 50, 'battle': 55, 'scene': 590, 'wikinger': 714, 'anhänger': 24, 'mit': 419, 'darstellung': 184, 'von': 704, 'thor': 660, 'bottiglia': 81, 'profumo': 533, 'vetro': 695, 'soffiato': 619, 'veneziano': 688, 'goldmünze': 289, 'dem': 198, 'persischen': 501, 'reich': 544, 'vase': 683, 'mythological': 444, 'from': 265, 'the': 659, 'minoan': 417, 'civilization': 133, 'elmo': 231, 'crestato': 161, 'sannitica': 586, 'persische': 500, 'miniatur': 412, 'jagdszene': 358, 'egyptian': 224, 'pendant': 489, 'eye': 251, 'of': 465, 'horus': 321, 'symbol': 644, 'renaissance': 550, 'copper': 153, 'basin': 51, 'engraved': 240, 'vegetal': 685, 'motifs': 434, 'ägyptisches': 740, 'diorama': 208, 'das': 185, 'den': 199, 'bau': 57, 'einer': 227, 'pyramide': 538, 'darstellt': 183, 'elfenbeinporträt': 230, 'der': 201, 'napoleonischen': 449, 'ära': 741, 'bastone': 53, 'comando': 144, 'africano': 3, 'incisioni': 337, 'rituali': 560, 'cylinder': 177, 'hieroglyphic': 313, 'inscriptions': 347, 'gemälde': 271, 'madonna': 388, 'kind': 366, 'scrigno': 599, 'medievale': 404, 'borchie': 80, 'ferro': 254, 'vaso': 684, 'porcellana': 523, 'vita': 703, 'corte': 156, 'cinese': 130, 'bronzeschlüssel': 90, 'mittelalterlichen': 424, 'tür': 672, 'african': 1, 'ritual': 557, 'mask': 397, 'carved': 107, 'wood': 721, 'knochenkamm': 370, 'wikingerzeit': 718, 'barocke': 48, 'uhrenkassette': 674, 'intarsienholz': 352, 'idolo': 325, 'giada': 277, 'cultura': 171, 'olmeca': 468, 'porzellanvase': 526, 'szenen': 645, 'chinesischen': 126, 'hofleben': 317, 'pettine': 505, 'osso': 475, 'epoca': 242, 'vichinga': 697, 'ceremonial': 119, 'drum': 217, 'native': 450, 'american': 15, 'tribes': 667, 'silbernes': 611, 'wikingerarmband': 715, 'persian': 497, 'miniature': 414, 'depicting': 200, 'hunting': 323, 'silver': 614, 'coin': 139, 'byzantine': 100, 'empire': 237, 'medaglia': 401, 'commemorativa': 147, 'del': 194, 'periodo': 496, 'napoleonico': 448, 'gothic': 290, 'stained': 627, 'window': 719, 'biblical': 65, 'goldene': 286, 'tasse': 649, 'mykenischen': 443, 'zivilisation': 733, 'etruskische': 249, 'urne': 680, 'bankettszenen': 44, 'verziert': 689, 'griechische': 300, 'votivtafel': 709, 'eingravierten': 229, 'inschriften': 346, 'reliquary': 547, 'cross': 168, 'embedded': 234, 'gems': 270, 'ritratto': 554, 'avorio': 36, 'napoleonica': 447, 'smalti': 617, 'dorati': 214, 'dinastia': 207, 'safavide': 580, 'persischer': 502, 'schild': 594, 'gravierten': 296, 'blumenmustern': 78, 'papiro': 484, 'testi': 655, 'sacri': 577, 'celtic': 112, 'era': 244, 'bronze': 87, 'bracelet': 83, 'goldenes': 288, 'diadem': 204, 'thrakischen': 661, 'tappeto': 648, 'persiano': 499, 'xvii': 728, 'secolo': 605, 'disegni': 210, 'floreali': 262, 'scudo': 600, 'decorato': 189, 'degli': 192, 'indigeni': 339, 'amazzonici': 13, 'mittelalterliche': 423, 'pergamenthandschrift': 494, 'musiknotation': 440, 'scultura': 602, 'bronzo': 92, 'raffigurante': 541, 'eracle': 245, 'ciondolo': 132, 'egizio': 223, 'simbolo': 615, 'occhio': 464, 'tessuto': 654, 'precolombiano': 529, 'motivi': 435, 'geometrici': 273, 'colorati': 141, 'bone': 79, 'comb': 145, 'viking': 699, 'age': 6, 'terrakotta': 653, 'votivfigur': 707, 'nuraghen': 459, 'kultur': 373, 'mesopotamian': 407, 'seal': 604, 'engravings': 241, 'olmec': 467, 'jade': 357, 'idol': 324, 'baroque': 49, 'harp': 306, 'and': 21, 'gilded': 278, 'antikes': 28, 'musikinstrument': 439, 'knochen': 369, 'notenlöchern': 458, 'manoscritto': 389, 'dorate': 213, 'bacile': 42, 'rinascimentale': 553, 'rame': 542, 'inciso': 338, 'vegetali': 686, 'medieval': 403, 'knight': 368, 'spur': 624, 'wrought': 723, 'iron': 353, 'tamburo': 646, 'cerimoniale': 120, 'delle': 197, 'tribù': 668, 'americane': 16, 'pompeian': 520, 'fresco': 264, 'spada': 620, 'lama': 376, 'damascata': 181, 'impugnatura': 332, 'anfora': 23, 'romana': 569, 'decorazioni': 191, 'rilievo': 552, 'zylinder': 735, 'altägyptischen': 11, 'hieroglypheninschriften': 312, 'fiasca': 255, 'per': 492, 'pellegrini': 488, 'terracotta': 652, 'statuetta': 630, 'divinità': 211, 'induista': 342, 'shield': 608, 'floral': 261, 'hispano': 316, 'moresque': 430, 'ceramic': 117, 'plate': 517, 'th': 658, 'century': 116, 'römisches': 574, 'marmor': 394, 'kampfszene': 362, 'coppa': 152, 'oro': 471, 'micenea': 410, 'oil': 466, 'lamp': 377, 'mercury': 405, 'armatura': 29, 'completa': 149, 'cavaliere': 111, 'xv': 726, 'ming': 411, 'dynasty': 219, 'chinese': 124, 'blue': 77, 'white': 712, 'enamels': 239, 'wooden': 722, 'chest': 121, 'studs': 641, 'corinzio': 154, 'vi': 696, 'zeremonielles': 730, 'trommel': 669, 'nordamerikanischen': 455, 'ureinwohner': 678, 'clock': 137, 'case': 109, 'inlaid': 344, 'persiana': 498, 'caccia': 104, 'bacchetta': 41, 'rabdomante': 540, 'bassorilievo': 52, 'romano': 570, 'marmo': 393, 'scena': 589, 'battaglia': 54, 'präkolumbianischer': 535, 'stoff': 635, 'geometrischen': 274, 'mustern': 441, 'chinesische': 125, 'dynastie': 218, 'blauen': 73, 'und': 677, 'weißen': 711, 'emaillemalereien': 233, 'samurai': 583, 'cresta': 160, 'ornamentale': 470, 'mittelalterlicher': 425, 'rittersporn': 556, 'schmiedeeisen': 595, 'hinduistische': 315, 'götterfigur': 303, 'byzantinisches': 103, 'mosaik': 433, 'christus': 128, 'pantokrator': 481, 'crociato': 167, 'croce': 166, 'incisa': 335, 'votiva': 705, 'celtica': 113, 'dipinto': 209, 'la': 375, 'il': 327, 'bambino': 43, 'römische': 572, 'wünschelrute': 724, 'sword': 643, 'hilt': 314, 'pre': 527, 'columbian': 143, 'textile': 657, 'geometric': 272, 'tavoletta': 650, 'greca': 298, 'iscrizioni': 354, 'incise': 336, 'affresco': 0, 'pompeiano': 521, 'mitologica': 420, 'gotische': 293, 'holzskulptur': 320, 'eines': 228, 'heiligen': 307, 'mitologiche': 421, 'cretese': 163, 'reliquiario': 549, 'gotico': 292, 'pietre': 511, 'preziose': 530, 'fusaiola': 267, 'neolitica': 453, 'decorata': 186, 'mayan': 400, 'stone': 636, 'sculpture': 601, 'priest': 531, 'spilla': 622, 'smalto': 618, 'cloisonné': 138, 'bizantino': 69, 'mesopotamischer': 408, 'zylindersiegel': 736, 'gravuren': 297, 'phönizische': 508, 'halskette': 305, 'bernstein': 60, 'farbigem': 252, 'glas': 281, 'votive': 706, 'nuragic': 460, 'culture': 172, 'päpstliches': 539, 'bleisiegel': 74, 'bild': 68, 'des': 202, 'petrus': 504, 'sperone': 621, 'battuto': 56, 'golden': 285, 'safavid': 579, 'teppich': 651, 'jahrhundert': 359, 'construction': 151, 'pyramid': 537, 'mittelalterliches': 426, 'manuskript': 391, 'goldenen': 287, 'miniaturen': 415, 'gedenkmedaille': 268, 'zeit': 729, 'fibula': 257, 'longobarda': 387, 'maya': 399, 'steinfigur': 633, 'die': 206, 'einen': 226, 'priester': 532, 'cup': 174, 'mycenaean': 442, 'figurine': 259, 'indus': 343, 'valley': 682, 'komplette': 371, 'ritterrüstung': 555, 'statuette': 631, 'neolithic': 452, 'spindle': 623, 'whorl': 713, 'polierte': 518, 'steinaxt': 632, 'steinzeit': 634, 'statue': 629, 'emperor': 236, 'nd': 451, 'silbermünze': 610, 'byzantinischen': 102, 'pendente': 490, 'vichingo': 698, 'rappresentazione': 543, 'buntglasfenster': 99, 'heiligendarstellungen': 308, 'aztec': 38, 'scepter': 592, 'turquoise': 671, 'inlays': 345, 'vetrata': 694, 'gotica': 291, 'bibliche': 66, 'crusader': 169, 'helmet': 310, 'an': 19, 'mosaic': 431, 'patterns': 487, 'statua': 628, 'un': 675, 'imperatore': 330, 'ii': 326, 'papale': 483, 'piombo': 515, 'immagine': 329, 'san': 584, 'pietro': 512, 'cintura': 131, 'cuoio': 173, 'fibbia': 256, 'papyrus': 485, 'texten': 656, 'alten': 10, 'ägypten': 737, 'bronzestatue': 91, 'buddhas': 98, 'tang': 647, 'piatto': 509, 'ceramico': 118, 'decorazione': 190, 'ottomana': 476, 'blu': 76, 'bianco': 64, 'una': 676, 'maschera': 396, 'africana': 2, 'intagliato': 349, 'pettorale': 506, 'scarabeo': 588, 'sacro': 578, 'al': 7, 'centro': 115, 'leder': 382, 'gürtel': 304, 'langobardischer': 378, 'bronzeschließe': 89, 'lombard': 386, 'gold': 283, 'enamel': 238, 'daga': 179, 'ossidiana': 474, 'precolombiane': 528, 'gotisches': 294, 'reliquiar': 548, 'emaille': 232, 'edelsteinen': 220, 'brooch': 93, 'diadema': 205, 'tracia': 666, 'painting': 478, 'child': 123, 'sumerische': 642, 'tontafel': 664, 'keilschriftinschriften': 363, 'ivory': 356, 'portrait': 525, 'napoleonic': 446, 'pilgerflasche': 513, 'kupferbecken': 374, 'pflanzlichen': 507, 'graviert': 295, 'marmorstatue': 395, 'römischen': 573, 'kaisers': 361, 'gemme': 269, 'incastonate': 334, 'brustpanzer': 94, 'brüniertem': 95, 'stahl': 626, 'hourglass': 322, 'brass': 84, 'structure': 638, 'obsidian': 462, 'dagger': 180, 'civilizations': 134, 'polished': 519, 'axe': 37, 'byzantinische': 101, 'goldbrosche': 284, 'sanduhr': 585, 'messingrahmen': 409, 'porcelain': 522, 'court': 158, 'life': 385, 'amphore': 18, 'reliefverzierungen': 546, 'valle': 681, 'indo': 341, 'moneta': 428, 'impero': 331, 'bronzearmband': 88, 'keltischen': 364, 'epoche': 243, 'arpa': 30, 'barocca': 46, 'dorato': 215, 'carpet': 105, 'manuscript': 390, 'miniatures': 416, 'pugnale': 536, 'cristallo': 164, 'rocca': 565, 'pietra': 510, 'sacerdote': 575, 'commemorative': 148, 'medal': 402, 'period': 495, 'dolch': 212, 'klingen': 367, 'bergkristall': 59, 'mosaico': 432, 'cristo': 165, 'pantocratore': 480, 'figure': 258, 'nere': 454, 'parchment': 486, 'musical': 437, 'notation': 456, 'aztekisches': 40, 'ritualzepter': 562, 'türkiseinlagen': 673, 'scythian': 603, 'curved': 176, 'blade': 71, 'animal': 25, 'ascia': 31, 'levigata': 384, 'età': 250, 'gladiator': 279, 'strumento': 639, 'musicale': 438, 'fori': 263, 'le': 379, 'note': 457, 'brocca': 86, 'etrusca': 246, 'alfabeto': 8, 'etrusco': 248, 'biblischen': 67, 'chiave': 122, 'porta': 524, 'rock': 566, 'crystal': 170, 'visiera': 701, 'mobile': 427, 'pilgrim': 514, 'flask': 260, 'helm': 309, 'beweglichem': 62, 'visier': 700, 'dowsing': 216, 'rod': 567, 'gladiatore': 280, 'collana': 140, 'fenicia': 253, 'ambra': 14, 'colorato': 142, 'breastplate': 85, 'sacred': 576, 'scarab': 587, 'at': 34, 'center': 114, 'heracles': 311, 'ägyptische': 738, 'totenmaske': 665, 'verzierte': 690, 'mythologischen': 445, 'minoischen': 418, 'christ': 127, 'pantocrator': 479, 'movable': 436, 'visor': 702, 'afrikanische': 4, 'ritualmaske': 561, 'geschnitztem': 276, 'holz': 319, 'wikingerschwert': 717, 'verziertem': 691, 'griff': 301, 'corno': 155, 'costruzione': 157, 'piramide': 516, 'amazonian': 12, 'indigenous': 340, 'people': 491, 'robe': 564, 'embroidered': 235, 'silk': 613, 'afrikanischer': 5, 'zeremonienstab': 732, 'rituellen': 563, 'schnitzereien': 596, 'tibetischer': 663, 'ritualdolch': 558, 'silberverzierungen': 612, 'ancient': 20, 'instrument': 348, 'holes': 318, 'greek': 299, 'black': 70, 'schwarzfigurigen': 597, 'verzierungen': 692, 'maurisches': 398, 'keramikteller': 365, 'jug': 360, 'alphabet': 9, 'osmanischer': 473, 'dekoration': 193, 'blau': 72, 'weiß': 710, 'clessidra': 136, 'xvi': 727, 'struttura': 640, 'ottone': 477, 'votivo': 708, 'nuragica': 461, 'damascened': 182, 'ägyptischer': 739, 'einem': 225, 'skarabäus': 616, 'mitte': 422, 'command': 146, 'staff': 625, 'carvings': 108, 'zeremoniengewand': 731, 'bestickter': 61, 'seide': 606, 'cilindro': 129, 'geroglifiche': 275, 'egizie': 222, 'leather': 381, 'belt': 58, 'buckle': 96, 'scita': 598, 'curva': 175, 'animali': 26, 'buddha': 97, 'veste': 693, 'seta': 607, 'ricamata': 551, 'kriegsszene': 372, 'streitwagen': 637, 'assyrischen': 33, 'öllampe': 742, 'merkur': 406, 'bianchi': 63, 'crested': 162, 'samnite': 582, 'wikingerpergament': 716, 'runenschrift': 571, 'papal': 482, 'lead': 380, 'image': 328, 'saint': 581, 'peter': 503, 'ornamental': 469, 'crest': 159, 'ispano': 355, 'moresco': 429, 'xiv': 725, 'tibetan': 662}\n"
          ]
        }
      ]
    },
    {
      "cell_type": "markdown",
      "source": [
        "### <font color=\"yellow\">**Sviluppo del Modello e Valutazione**</font>"
      ],
      "metadata": {
        "id": "mSlI3ZiKb5W6"
      }
    },
    {
      "cell_type": "markdown",
      "source": [
        "Sviluppo di un modello per la classificazione delle lingue mediante l'algoritmo Multinomial Naive Bayes (cioè Naive Bayes con distribuzione Multinomiale).\n",
        "\n",
        "Il Multinomial Naive Bayes è un algoritmo di classificazione supervisionata particolarmente adatto all’analisi e alla classificazione di dati testuali. Si basa sull’ipotesi che le feature contribuiscano in modo indipendente alla classificazione della descrizione. Questo algoritmo modella la distribuzione delle frequenze delle parole in ciascuna classe e utilizza queste informazioni per assegnare ai nuovi testi la categoria più probabile."
      ],
      "metadata": {
        "id": "_csrTQ2sb5xV"
      }
    },
    {
      "cell_type": "code",
      "source": [
        "def classifier_report(model, data):\n",
        "\n",
        "  \"\"\"\n",
        "  parametri:\n",
        "    - model: modello Multinomial Naive Bayes\n",
        "    - data: tupla contenente il set di feature e target\n",
        "  output: report con le metriche di classificazione\n",
        "  \"\"\"\n",
        "\n",
        "  # estrazione dei dati (feature e target) dalla tupla\n",
        "  X, y = data\n",
        "  # previsione del modello\n",
        "  y_pred = model.predict(X)\n",
        "  # invocazione della funzione classification_report, passandogli come parametri sia il set di target predetti che reali\n",
        "  report = classification_report(y_pred, y)\n",
        "  print(report)"
      ],
      "metadata": {
        "id": "5sFHKcW4b2Pz"
      },
      "execution_count": null,
      "outputs": []
    },
    {
      "cell_type": "code",
      "source": [
        "# creazione del modello, con l'istanziazione dell'oggetto mnb della classe MultinomialNB\n",
        "mnb = MultinomialNB()\n",
        "# addestramento del modello, sui dati di addestramento\n",
        "mnb.fit(train_descriptions_cleaned_and_vectorized, y_train)"
      ],
      "metadata": {
        "colab": {
          "base_uri": "https://localhost:8080/",
          "height": 80
        },
        "id": "tINTk5PfdSQk",
        "outputId": "0b12e814-cb5e-4397-f1b8-79c69321420f"
      },
      "execution_count": null,
      "outputs": [
        {
          "output_type": "execute_result",
          "data": {
            "text/plain": [
              "MultinomialNB()"
            ],
            "text/html": [
              "<style>#sk-container-id-1 {\n",
              "  /* Definition of color scheme common for light and dark mode */\n",
              "  --sklearn-color-text: #000;\n",
              "  --sklearn-color-text-muted: #666;\n",
              "  --sklearn-color-line: gray;\n",
              "  /* Definition of color scheme for unfitted estimators */\n",
              "  --sklearn-color-unfitted-level-0: #fff5e6;\n",
              "  --sklearn-color-unfitted-level-1: #f6e4d2;\n",
              "  --sklearn-color-unfitted-level-2: #ffe0b3;\n",
              "  --sklearn-color-unfitted-level-3: chocolate;\n",
              "  /* Definition of color scheme for fitted estimators */\n",
              "  --sklearn-color-fitted-level-0: #f0f8ff;\n",
              "  --sklearn-color-fitted-level-1: #d4ebff;\n",
              "  --sklearn-color-fitted-level-2: #b3dbfd;\n",
              "  --sklearn-color-fitted-level-3: cornflowerblue;\n",
              "\n",
              "  /* Specific color for light theme */\n",
              "  --sklearn-color-text-on-default-background: var(--sg-text-color, var(--theme-code-foreground, var(--jp-content-font-color1, black)));\n",
              "  --sklearn-color-background: var(--sg-background-color, var(--theme-background, var(--jp-layout-color0, white)));\n",
              "  --sklearn-color-border-box: var(--sg-text-color, var(--theme-code-foreground, var(--jp-content-font-color1, black)));\n",
              "  --sklearn-color-icon: #696969;\n",
              "\n",
              "  @media (prefers-color-scheme: dark) {\n",
              "    /* Redefinition of color scheme for dark theme */\n",
              "    --sklearn-color-text-on-default-background: var(--sg-text-color, var(--theme-code-foreground, var(--jp-content-font-color1, white)));\n",
              "    --sklearn-color-background: var(--sg-background-color, var(--theme-background, var(--jp-layout-color0, #111)));\n",
              "    --sklearn-color-border-box: var(--sg-text-color, var(--theme-code-foreground, var(--jp-content-font-color1, white)));\n",
              "    --sklearn-color-icon: #878787;\n",
              "  }\n",
              "}\n",
              "\n",
              "#sk-container-id-1 {\n",
              "  color: var(--sklearn-color-text);\n",
              "}\n",
              "\n",
              "#sk-container-id-1 pre {\n",
              "  padding: 0;\n",
              "}\n",
              "\n",
              "#sk-container-id-1 input.sk-hidden--visually {\n",
              "  border: 0;\n",
              "  clip: rect(1px 1px 1px 1px);\n",
              "  clip: rect(1px, 1px, 1px, 1px);\n",
              "  height: 1px;\n",
              "  margin: -1px;\n",
              "  overflow: hidden;\n",
              "  padding: 0;\n",
              "  position: absolute;\n",
              "  width: 1px;\n",
              "}\n",
              "\n",
              "#sk-container-id-1 div.sk-dashed-wrapped {\n",
              "  border: 1px dashed var(--sklearn-color-line);\n",
              "  margin: 0 0.4em 0.5em 0.4em;\n",
              "  box-sizing: border-box;\n",
              "  padding-bottom: 0.4em;\n",
              "  background-color: var(--sklearn-color-background);\n",
              "}\n",
              "\n",
              "#sk-container-id-1 div.sk-container {\n",
              "  /* jupyter's `normalize.less` sets `[hidden] { display: none; }`\n",
              "     but bootstrap.min.css set `[hidden] { display: none !important; }`\n",
              "     so we also need the `!important` here to be able to override the\n",
              "     default hidden behavior on the sphinx rendered scikit-learn.org.\n",
              "     See: https://github.com/scikit-learn/scikit-learn/issues/21755 */\n",
              "  display: inline-block !important;\n",
              "  position: relative;\n",
              "}\n",
              "\n",
              "#sk-container-id-1 div.sk-text-repr-fallback {\n",
              "  display: none;\n",
              "}\n",
              "\n",
              "div.sk-parallel-item,\n",
              "div.sk-serial,\n",
              "div.sk-item {\n",
              "  /* draw centered vertical line to link estimators */\n",
              "  background-image: linear-gradient(var(--sklearn-color-text-on-default-background), var(--sklearn-color-text-on-default-background));\n",
              "  background-size: 2px 100%;\n",
              "  background-repeat: no-repeat;\n",
              "  background-position: center center;\n",
              "}\n",
              "\n",
              "/* Parallel-specific style estimator block */\n",
              "\n",
              "#sk-container-id-1 div.sk-parallel-item::after {\n",
              "  content: \"\";\n",
              "  width: 100%;\n",
              "  border-bottom: 2px solid var(--sklearn-color-text-on-default-background);\n",
              "  flex-grow: 1;\n",
              "}\n",
              "\n",
              "#sk-container-id-1 div.sk-parallel {\n",
              "  display: flex;\n",
              "  align-items: stretch;\n",
              "  justify-content: center;\n",
              "  background-color: var(--sklearn-color-background);\n",
              "  position: relative;\n",
              "}\n",
              "\n",
              "#sk-container-id-1 div.sk-parallel-item {\n",
              "  display: flex;\n",
              "  flex-direction: column;\n",
              "}\n",
              "\n",
              "#sk-container-id-1 div.sk-parallel-item:first-child::after {\n",
              "  align-self: flex-end;\n",
              "  width: 50%;\n",
              "}\n",
              "\n",
              "#sk-container-id-1 div.sk-parallel-item:last-child::after {\n",
              "  align-self: flex-start;\n",
              "  width: 50%;\n",
              "}\n",
              "\n",
              "#sk-container-id-1 div.sk-parallel-item:only-child::after {\n",
              "  width: 0;\n",
              "}\n",
              "\n",
              "/* Serial-specific style estimator block */\n",
              "\n",
              "#sk-container-id-1 div.sk-serial {\n",
              "  display: flex;\n",
              "  flex-direction: column;\n",
              "  align-items: center;\n",
              "  background-color: var(--sklearn-color-background);\n",
              "  padding-right: 1em;\n",
              "  padding-left: 1em;\n",
              "}\n",
              "\n",
              "\n",
              "/* Toggleable style: style used for estimator/Pipeline/ColumnTransformer box that is\n",
              "clickable and can be expanded/collapsed.\n",
              "- Pipeline and ColumnTransformer use this feature and define the default style\n",
              "- Estimators will overwrite some part of the style using the `sk-estimator` class\n",
              "*/\n",
              "\n",
              "/* Pipeline and ColumnTransformer style (default) */\n",
              "\n",
              "#sk-container-id-1 div.sk-toggleable {\n",
              "  /* Default theme specific background. It is overwritten whether we have a\n",
              "  specific estimator or a Pipeline/ColumnTransformer */\n",
              "  background-color: var(--sklearn-color-background);\n",
              "}\n",
              "\n",
              "/* Toggleable label */\n",
              "#sk-container-id-1 label.sk-toggleable__label {\n",
              "  cursor: pointer;\n",
              "  display: flex;\n",
              "  width: 100%;\n",
              "  margin-bottom: 0;\n",
              "  padding: 0.5em;\n",
              "  box-sizing: border-box;\n",
              "  text-align: center;\n",
              "  align-items: start;\n",
              "  justify-content: space-between;\n",
              "  gap: 0.5em;\n",
              "}\n",
              "\n",
              "#sk-container-id-1 label.sk-toggleable__label .caption {\n",
              "  font-size: 0.6rem;\n",
              "  font-weight: lighter;\n",
              "  color: var(--sklearn-color-text-muted);\n",
              "}\n",
              "\n",
              "#sk-container-id-1 label.sk-toggleable__label-arrow:before {\n",
              "  /* Arrow on the left of the label */\n",
              "  content: \"▸\";\n",
              "  float: left;\n",
              "  margin-right: 0.25em;\n",
              "  color: var(--sklearn-color-icon);\n",
              "}\n",
              "\n",
              "#sk-container-id-1 label.sk-toggleable__label-arrow:hover:before {\n",
              "  color: var(--sklearn-color-text);\n",
              "}\n",
              "\n",
              "/* Toggleable content - dropdown */\n",
              "\n",
              "#sk-container-id-1 div.sk-toggleable__content {\n",
              "  max-height: 0;\n",
              "  max-width: 0;\n",
              "  overflow: hidden;\n",
              "  text-align: left;\n",
              "  /* unfitted */\n",
              "  background-color: var(--sklearn-color-unfitted-level-0);\n",
              "}\n",
              "\n",
              "#sk-container-id-1 div.sk-toggleable__content.fitted {\n",
              "  /* fitted */\n",
              "  background-color: var(--sklearn-color-fitted-level-0);\n",
              "}\n",
              "\n",
              "#sk-container-id-1 div.sk-toggleable__content pre {\n",
              "  margin: 0.2em;\n",
              "  border-radius: 0.25em;\n",
              "  color: var(--sklearn-color-text);\n",
              "  /* unfitted */\n",
              "  background-color: var(--sklearn-color-unfitted-level-0);\n",
              "}\n",
              "\n",
              "#sk-container-id-1 div.sk-toggleable__content.fitted pre {\n",
              "  /* unfitted */\n",
              "  background-color: var(--sklearn-color-fitted-level-0);\n",
              "}\n",
              "\n",
              "#sk-container-id-1 input.sk-toggleable__control:checked~div.sk-toggleable__content {\n",
              "  /* Expand drop-down */\n",
              "  max-height: 200px;\n",
              "  max-width: 100%;\n",
              "  overflow: auto;\n",
              "}\n",
              "\n",
              "#sk-container-id-1 input.sk-toggleable__control:checked~label.sk-toggleable__label-arrow:before {\n",
              "  content: \"▾\";\n",
              "}\n",
              "\n",
              "/* Pipeline/ColumnTransformer-specific style */\n",
              "\n",
              "#sk-container-id-1 div.sk-label input.sk-toggleable__control:checked~label.sk-toggleable__label {\n",
              "  color: var(--sklearn-color-text);\n",
              "  background-color: var(--sklearn-color-unfitted-level-2);\n",
              "}\n",
              "\n",
              "#sk-container-id-1 div.sk-label.fitted input.sk-toggleable__control:checked~label.sk-toggleable__label {\n",
              "  background-color: var(--sklearn-color-fitted-level-2);\n",
              "}\n",
              "\n",
              "/* Estimator-specific style */\n",
              "\n",
              "/* Colorize estimator box */\n",
              "#sk-container-id-1 div.sk-estimator input.sk-toggleable__control:checked~label.sk-toggleable__label {\n",
              "  /* unfitted */\n",
              "  background-color: var(--sklearn-color-unfitted-level-2);\n",
              "}\n",
              "\n",
              "#sk-container-id-1 div.sk-estimator.fitted input.sk-toggleable__control:checked~label.sk-toggleable__label {\n",
              "  /* fitted */\n",
              "  background-color: var(--sklearn-color-fitted-level-2);\n",
              "}\n",
              "\n",
              "#sk-container-id-1 div.sk-label label.sk-toggleable__label,\n",
              "#sk-container-id-1 div.sk-label label {\n",
              "  /* The background is the default theme color */\n",
              "  color: var(--sklearn-color-text-on-default-background);\n",
              "}\n",
              "\n",
              "/* On hover, darken the color of the background */\n",
              "#sk-container-id-1 div.sk-label:hover label.sk-toggleable__label {\n",
              "  color: var(--sklearn-color-text);\n",
              "  background-color: var(--sklearn-color-unfitted-level-2);\n",
              "}\n",
              "\n",
              "/* Label box, darken color on hover, fitted */\n",
              "#sk-container-id-1 div.sk-label.fitted:hover label.sk-toggleable__label.fitted {\n",
              "  color: var(--sklearn-color-text);\n",
              "  background-color: var(--sklearn-color-fitted-level-2);\n",
              "}\n",
              "\n",
              "/* Estimator label */\n",
              "\n",
              "#sk-container-id-1 div.sk-label label {\n",
              "  font-family: monospace;\n",
              "  font-weight: bold;\n",
              "  display: inline-block;\n",
              "  line-height: 1.2em;\n",
              "}\n",
              "\n",
              "#sk-container-id-1 div.sk-label-container {\n",
              "  text-align: center;\n",
              "}\n",
              "\n",
              "/* Estimator-specific */\n",
              "#sk-container-id-1 div.sk-estimator {\n",
              "  font-family: monospace;\n",
              "  border: 1px dotted var(--sklearn-color-border-box);\n",
              "  border-radius: 0.25em;\n",
              "  box-sizing: border-box;\n",
              "  margin-bottom: 0.5em;\n",
              "  /* unfitted */\n",
              "  background-color: var(--sklearn-color-unfitted-level-0);\n",
              "}\n",
              "\n",
              "#sk-container-id-1 div.sk-estimator.fitted {\n",
              "  /* fitted */\n",
              "  background-color: var(--sklearn-color-fitted-level-0);\n",
              "}\n",
              "\n",
              "/* on hover */\n",
              "#sk-container-id-1 div.sk-estimator:hover {\n",
              "  /* unfitted */\n",
              "  background-color: var(--sklearn-color-unfitted-level-2);\n",
              "}\n",
              "\n",
              "#sk-container-id-1 div.sk-estimator.fitted:hover {\n",
              "  /* fitted */\n",
              "  background-color: var(--sklearn-color-fitted-level-2);\n",
              "}\n",
              "\n",
              "/* Specification for estimator info (e.g. \"i\" and \"?\") */\n",
              "\n",
              "/* Common style for \"i\" and \"?\" */\n",
              "\n",
              ".sk-estimator-doc-link,\n",
              "a:link.sk-estimator-doc-link,\n",
              "a:visited.sk-estimator-doc-link {\n",
              "  float: right;\n",
              "  font-size: smaller;\n",
              "  line-height: 1em;\n",
              "  font-family: monospace;\n",
              "  background-color: var(--sklearn-color-background);\n",
              "  border-radius: 1em;\n",
              "  height: 1em;\n",
              "  width: 1em;\n",
              "  text-decoration: none !important;\n",
              "  margin-left: 0.5em;\n",
              "  text-align: center;\n",
              "  /* unfitted */\n",
              "  border: var(--sklearn-color-unfitted-level-1) 1pt solid;\n",
              "  color: var(--sklearn-color-unfitted-level-1);\n",
              "}\n",
              "\n",
              ".sk-estimator-doc-link.fitted,\n",
              "a:link.sk-estimator-doc-link.fitted,\n",
              "a:visited.sk-estimator-doc-link.fitted {\n",
              "  /* fitted */\n",
              "  border: var(--sklearn-color-fitted-level-1) 1pt solid;\n",
              "  color: var(--sklearn-color-fitted-level-1);\n",
              "}\n",
              "\n",
              "/* On hover */\n",
              "div.sk-estimator:hover .sk-estimator-doc-link:hover,\n",
              ".sk-estimator-doc-link:hover,\n",
              "div.sk-label-container:hover .sk-estimator-doc-link:hover,\n",
              ".sk-estimator-doc-link:hover {\n",
              "  /* unfitted */\n",
              "  background-color: var(--sklearn-color-unfitted-level-3);\n",
              "  color: var(--sklearn-color-background);\n",
              "  text-decoration: none;\n",
              "}\n",
              "\n",
              "div.sk-estimator.fitted:hover .sk-estimator-doc-link.fitted:hover,\n",
              ".sk-estimator-doc-link.fitted:hover,\n",
              "div.sk-label-container:hover .sk-estimator-doc-link.fitted:hover,\n",
              ".sk-estimator-doc-link.fitted:hover {\n",
              "  /* fitted */\n",
              "  background-color: var(--sklearn-color-fitted-level-3);\n",
              "  color: var(--sklearn-color-background);\n",
              "  text-decoration: none;\n",
              "}\n",
              "\n",
              "/* Span, style for the box shown on hovering the info icon */\n",
              ".sk-estimator-doc-link span {\n",
              "  display: none;\n",
              "  z-index: 9999;\n",
              "  position: relative;\n",
              "  font-weight: normal;\n",
              "  right: .2ex;\n",
              "  padding: .5ex;\n",
              "  margin: .5ex;\n",
              "  width: min-content;\n",
              "  min-width: 20ex;\n",
              "  max-width: 50ex;\n",
              "  color: var(--sklearn-color-text);\n",
              "  box-shadow: 2pt 2pt 4pt #999;\n",
              "  /* unfitted */\n",
              "  background: var(--sklearn-color-unfitted-level-0);\n",
              "  border: .5pt solid var(--sklearn-color-unfitted-level-3);\n",
              "}\n",
              "\n",
              ".sk-estimator-doc-link.fitted span {\n",
              "  /* fitted */\n",
              "  background: var(--sklearn-color-fitted-level-0);\n",
              "  border: var(--sklearn-color-fitted-level-3);\n",
              "}\n",
              "\n",
              ".sk-estimator-doc-link:hover span {\n",
              "  display: block;\n",
              "}\n",
              "\n",
              "/* \"?\"-specific style due to the `<a>` HTML tag */\n",
              "\n",
              "#sk-container-id-1 a.estimator_doc_link {\n",
              "  float: right;\n",
              "  font-size: 1rem;\n",
              "  line-height: 1em;\n",
              "  font-family: monospace;\n",
              "  background-color: var(--sklearn-color-background);\n",
              "  border-radius: 1rem;\n",
              "  height: 1rem;\n",
              "  width: 1rem;\n",
              "  text-decoration: none;\n",
              "  /* unfitted */\n",
              "  color: var(--sklearn-color-unfitted-level-1);\n",
              "  border: var(--sklearn-color-unfitted-level-1) 1pt solid;\n",
              "}\n",
              "\n",
              "#sk-container-id-1 a.estimator_doc_link.fitted {\n",
              "  /* fitted */\n",
              "  border: var(--sklearn-color-fitted-level-1) 1pt solid;\n",
              "  color: var(--sklearn-color-fitted-level-1);\n",
              "}\n",
              "\n",
              "/* On hover */\n",
              "#sk-container-id-1 a.estimator_doc_link:hover {\n",
              "  /* unfitted */\n",
              "  background-color: var(--sklearn-color-unfitted-level-3);\n",
              "  color: var(--sklearn-color-background);\n",
              "  text-decoration: none;\n",
              "}\n",
              "\n",
              "#sk-container-id-1 a.estimator_doc_link.fitted:hover {\n",
              "  /* fitted */\n",
              "  background-color: var(--sklearn-color-fitted-level-3);\n",
              "}\n",
              "</style><div id=\"sk-container-id-1\" class=\"sk-top-container\"><div class=\"sk-text-repr-fallback\"><pre>MultinomialNB()</pre><b>In a Jupyter environment, please rerun this cell to show the HTML representation or trust the notebook. <br />On GitHub, the HTML representation is unable to render, please try loading this page with nbviewer.org.</b></div><div class=\"sk-container\" hidden><div class=\"sk-item\"><div class=\"sk-estimator fitted sk-toggleable\"><input class=\"sk-toggleable__control sk-hidden--visually\" id=\"sk-estimator-id-1\" type=\"checkbox\" checked><label for=\"sk-estimator-id-1\" class=\"sk-toggleable__label fitted sk-toggleable__label-arrow\"><div><div>MultinomialNB</div></div><div><a class=\"sk-estimator-doc-link fitted\" rel=\"noreferrer\" target=\"_blank\" href=\"https://scikit-learn.org/1.6/modules/generated/sklearn.naive_bayes.MultinomialNB.html\">?<span>Documentation for MultinomialNB</span></a><span class=\"sk-estimator-doc-link fitted\">i<span>Fitted</span></span></div></label><div class=\"sk-toggleable__content fitted\"><pre>MultinomialNB()</pre></div> </div></div></div></div>"
            ]
          },
          "metadata": {},
          "execution_count": 30
        }
      ]
    },
    {
      "cell_type": "markdown",
      "source": [
        "Il modello Multinomial Naive Bayes ha ottenuto ottimi risultati sul set di test. Dai valori di Precision(=che rappresenta la percentuale di classificazioni positive, che erano effettivamente positive), Recall(=che rappresenta la percentuale di osservazioni positive, che sono state classificate come positive) e F1-Score(=che indica la media armonica tra Precision e Recall) emerge un’elevata capacità del classificatore di distinguere correttamente tra le tre lingue analizzate (tedesco, inglese e italiano), con tutti gli score compresi tra 0.88 e 1.00.  \n",
        "\n",
        "In particolare:\n",
        "* La lingua tedesca (de) ha ottenuto una Precision del 88%, una Recall del 100% ed un F1-Score del 94%\n",
        "* La lingua inglese (en) ha ottenuto una Precision del 100%, una Recall del 90% ed un F1-Score del 95%\n",
        "* La lingua italiana (it) ha ottenuto una Precision del 100%, una Recall del 94% ed un F1-Score del 97%\n",
        "\n",
        "L’accuratezza media(=che rappresenta la percentuale di classificazioni corrette) del modello sul set di test è del 95%, confermando l’efficacia dell’approccio Bag of Words combinato con Multinomial Naive Bayes per la classificazione multilingue di descrizioni di opere museali/manufatti"
      ],
      "metadata": {
        "id": "kcwmowJ4dnUc"
      }
    },
    {
      "cell_type": "code",
      "source": [
        "# invocazione della funzione classifier_report\n",
        "classifier_report(mnb, (test_descriptions_cleaned_and_vectorized, y_test))"
      ],
      "metadata": {
        "colab": {
          "base_uri": "https://localhost:8080/"
        },
        "id": "DII_DOVJdivK",
        "outputId": "d45d4ee8-2508-4ef0-f6e4-32e9fac475dc"
      },
      "execution_count": null,
      "outputs": [
        {
          "output_type": "stream",
          "name": "stdout",
          "text": [
            "              precision    recall  f1-score   support\n",
            "\n",
            "          de       0.88      1.00      0.94        22\n",
            "          en       1.00      0.90      0.95        21\n",
            "          it       1.00      0.94      0.97        16\n",
            "\n",
            "    accuracy                           0.95        59\n",
            "   macro avg       0.96      0.95      0.95        59\n",
            "weighted avg       0.96      0.95      0.95        59\n",
            "\n"
          ]
        }
      ]
    },
    {
      "cell_type": "markdown",
      "source": [
        "Andiamo a prevedere tre frasi, ciascuna di una lingua diversa rispetto a quelle presenti sul dataset (italiano, inglese e tedesco), che il modello non conosce"
      ],
      "metadata": {
        "id": "bxA2P_8iehFQ"
      }
    },
    {
      "cell_type": "code",
      "source": [
        "def predict_language(descriptions):\n",
        "\n",
        "  \"\"\"\n",
        "  Input:\n",
        "    - parametro descriptions: lista contenente le descrizioni inerenti a opere d’arte o manufatti, ciascuna in lingua diversa (italiano, inglese e tedesco) e non presenti sul dataset iniziale\n",
        "  Output: stampa della descrizione e della lingua prevista dal modello\n",
        "  \"\"\"\n",
        "\n",
        "  for description in descriptions:\n",
        "    # invocazione della funzione data_cleaner, per la fase di data preprocessing sulla descrizione\n",
        "    cleaned_description = data_cleaner(description)\n",
        "    # previsione del modello, richiamando la funzione tdifdvectorizer con parametri la lista delle descrizioni e l'oggetto della classe TfIdfVectorizer già istanziato per la fase di validazione\n",
        "    res = mnb.predict(tfidfvectorizer([cleaned_description], tfidf_vectorized)[0])\n",
        "    print(\"La descrizione:\", description, \", è in lingua\", \"italiana\" if res[0] == \"it\" else \"inglese\" if res[0] == \"en\" else \"tedesca\")"
      ],
      "metadata": {
        "id": "w9oBKljshprK"
      },
      "execution_count": null,
      "outputs": []
    },
    {
      "cell_type": "markdown",
      "source": [
        "Il modello è in grado di prevedere correttamente la lingua delle descrizioni di opere museali/manufatti non presenti sul dataset di addestramento, dimostrando capacità di generalizzazione"
      ],
      "metadata": {
        "id": "fApzh5Txeqb3"
      }
    },
    {
      "cell_type": "code",
      "source": [
        "# lista contenente le descrizioni inerenti a opere d’arte o manufatti, ciascuna in lingua diversa (italiano, inglese e tedesco) e non presenti sul dataset iniziale\n",
        "unknown_descriptions = [\n",
        "    'La statuetta votiva in bronzo della civiltà celtica testimonia la raffinatezza artigianale dei popoli antichi.',\n",
        "    'The silver coin from the Byzantine Empire reveals the rich history of trade and culture in medieval times.',\n",
        "    'Die griechische Amphore mit schwarzfigurigen Verzierungen zeugt von der hohen Meisterschaft antiker Töpferkunst.'\n",
        "  ]\n",
        "\n",
        "# invocazione della funzione predict_language, passandogli la lista contenente le descrizioni non presenti sul dataset iniziale\n",
        "predict_language(unknown_descriptions)"
      ],
      "metadata": {
        "colab": {
          "base_uri": "https://localhost:8080/"
        },
        "id": "9HS0BeYVdsBj",
        "outputId": "ed00196e-9936-47d2-967a-70e2fee61381"
      },
      "execution_count": null,
      "outputs": [
        {
          "output_type": "stream",
          "name": "stdout",
          "text": [
            "La descrizione: La statuetta votiva in bronzo della civiltà celtica testimonia la raffinatezza artigianale dei popoli antichi. , è in lingua italiana\n",
            "La descrizione: The silver coin from the Byzantine Empire reveals the rich history of trade and culture in medieval times. , è in lingua inglese\n",
            "La descrizione: Die griechische Amphore mit schwarzfigurigen Verzierungen zeugt von der hohen Meisterschaft antiker Töpferkunst. , è in lingua tedesca\n"
          ]
        }
      ]
    },
    {
      "cell_type": "markdown",
      "source": [
        "### <font color=\"yellow\">**Visualizzazione dei Risultati**</font>"
      ],
      "metadata": {
        "id": "VmUaI84ujKpU"
      }
    },
    {
      "cell_type": "markdown",
      "source": [
        "#### <font color=\"green\">**AUC-ROC Curve**</font>"
      ],
      "metadata": {
        "id": "V3bCarpljLE4"
      }
    },
    {
      "cell_type": "markdown",
      "source": [
        "La Curva ROC (Receiver Operating Characteristic) è una metrica utilizzata per valutare le prestazioni di un modello di classificazione, come nel nostro caso il modello Multinomial Naive Bayes. Essa rappresenta la relazione tra il Tasso di Veri Positivi (True Positive Rate, TPR, anche noto come Recall, ovvero la percentuale di osservazioni positive correttamente classificate) e il Tasso di Falsi Positivi (False Positive Rate, FPR, calcolato come 1 − Specificity, dove la Specificity indica la percentuale di osservazioni negative correttamente classificate).\n",
        "\n",
        "La Curva ROC consente di verificare le performance di un modello di classificazione per diversi valori di soglia (o threshold) ed è utilizzata per calcolare il valore dell’AUC (Area Under the Curve), che rappresenta l’area sotto la curva ROC. Il punteggio AUC varia tra 0 e 1: un valore prossimo a 1 indica un’elevata capacità di discriminazione del modello.\n",
        "\n",
        "Sebbene la Curva ROC sia tipicamente impiegata per modelli di classificazione binaria, è possibile adattarla a contesti multiclasse (come nel nostro caso, in cui il target include tre classi) utilizzando l’approccio One-vs-Rest. In particolare, si applica la funzione label_binarize per trasformare il target multiclasse in una serie di classificazioni binarie, una per ciascuna classe. Successivamente, per ogni classe, si calcolano i valori di TPR e FPR tramite la funzione roc_curve ed infine si determina l’AUC corrispondente, tramite la funzione auc\n",
        "\n",
        "Fonte: https://scikit-learn.org/stable/auto_examples/model_selection/plot_roc.html#plot-all-ovr-roc-curves-together"
      ],
      "metadata": {
        "id": "1o_EXi98jLvI"
      }
    },
    {
      "cell_type": "code",
      "source": [
        "def plot_roc_curve(model, data):\n",
        "\n",
        "  \"\"\"\n",
        "  parametri:\n",
        "    - model: modello Multinomial Naive Bayes\n",
        "    - data: tupla contenente il set di feature e target\n",
        "  output: curva ROC e calcolo dell'AUC per ciascuna classe del modello\n",
        "  \"\"\"\n",
        "\n",
        "  # estrazione dei dati (feature e target) dalla tupla\n",
        "  X, y = data\n",
        "\n",
        "  # probabilità del modello\n",
        "  y_proba = model.predict_proba(X)\n",
        "\n",
        "  # label_binarize: permette di binarizzare le etichette vere per lo schema one-vs-rest\n",
        "  y_test_bin = label_binarize(y, classes=np.unique(y))\n",
        "  n_classes = y_test_bin.shape[1]\n",
        "\n",
        "  # esecuzione della curva ROC e AUC per ogni classe\n",
        "  fpr = dict()\n",
        "  tpr = dict()\n",
        "  roc_auc = dict()\n",
        "  for i in range(n_classes):\n",
        "      # roc_curve: permette di eseguire la Receiver operating characteristic (ROC), ritornando il valore del FPR e TPR\n",
        "      fpr[i], tpr[i], _ = roc_curve(y_test_bin[:, i], y_proba[:, i])\n",
        "      # auc: permette di eseguire l'Area Under the Curve (AUC), passando alla funzione i valori del FPR e TPR\n",
        "      roc_auc[i] = auc(fpr[i], tpr[i])\n",
        "\n",
        "  # grafico a linee per tutte le curve ROC, una per ogni classe\n",
        "  fig, ax = plt.subplots(figsize=(6, 6))\n",
        "  # lista con i colori da passare a ciascuna classe\n",
        "  colors = ['red', 'blue', 'yellow']\n",
        "  # lista con le etichette reali\n",
        "  class_names = [\"it\", \"en\", \"de\"]\n",
        "  for class_id, color in zip(range(n_classes), colors):\n",
        "      # RocCurveDisplay: permette di visualizzare la curva ROC\n",
        "      RocCurveDisplay.from_predictions(\n",
        "          y_test_bin[:, class_id],\n",
        "          y_proba[:, class_id],\n",
        "          name=f\"Curva ROC per la classe {class_names[class_id]}\",\n",
        "          color=color,\n",
        "          ax=ax,\n",
        "      )"
      ],
      "metadata": {
        "id": "MxfYS_ZnhgnH"
      },
      "execution_count": null,
      "outputs": []
    },
    {
      "cell_type": "markdown",
      "source": [
        "La figura mostra le Curve ROC per ciascuna classe(=3) del modello Multinomial Naive Bayes, utilizzando l’approccio One-vs-Rest per l’adattamento della metrica ROC ad un contesto multiclasse.\n",
        "\n",
        "Le Curve ROC mostrano un elevato potere discriminativo del modello per tutte le classi, con valori AUC pari a 1. Questo indica che il modello è in grado di distinguere correttamente ciascuna classe dalle altre."
      ],
      "metadata": {
        "id": "trfLKheqoZ0w"
      }
    },
    {
      "cell_type": "code",
      "source": [
        "plot_roc_curve(mnb, (test_descriptions_cleaned_and_vectorized, y_test))"
      ],
      "metadata": {
        "colab": {
          "base_uri": "https://localhost:8080/",
          "height": 543
        },
        "id": "VqngiKfInC1G",
        "outputId": "0f97832d-593f-41ef-990c-8d7d6aff043f"
      },
      "execution_count": null,
      "outputs": [
        {
          "output_type": "display_data",
          "data": {
            "text/plain": [
              "<Figure size 600x600 with 1 Axes>"
            ],
            "image/png": "[encoded data removed]"
          },
          "metadata": {}
        }
      ]
    },
    {
      "cell_type": "markdown",
      "source": [
        "#### <font color=\"green\">**Matrice di Confusione per visualizzare e confrontare le performance del modello**</font>"
      ],
      "metadata": {
        "id": "xrxRChR3zKL_"
      }
    },
    {
      "cell_type": "markdown",
      "source": [
        "Tramite la metrica di classificazione \"Matrice di Confusione\" è possibile sapere non solo quanti errori ha commesso il modello, ma anche quali. Riassume quindi le performance del modello. Si utilizza la funzione confusion_matrix, del modulo sklearn.metrics, applicandola sulle classi"
      ],
      "metadata": {
        "id": "2tcZQUsUzKnV"
      }
    },
    {
      "cell_type": "code",
      "source": [
        "def plot_confusion_matrix(model, data):\n",
        "\n",
        "  \"\"\"\n",
        "  parametri:\n",
        "    - model: modello Multinomial Naive Bayes\n",
        "    - data: tupla contenente il set di feature e target\n",
        "  output: matrice di confusione\n",
        "  \"\"\"\n",
        "\n",
        "  # estrazione dei dati (feature e target) dalla tupla\n",
        "  X, y = data\n",
        "\n",
        "  # previsione del modello\n",
        "  y_pred = model.predict(X)\n",
        "\n",
        "  # definizione della matrice di confusione, passando alla funzione due parametri: set di target reali e predetti\n",
        "  cm = confusion_matrix(y, y_pred)\n",
        "\n",
        "  # lista con le etichette reali da passare alle classi predette e reali nell'heatmap\n",
        "  label_names = [\"it\", \"en\", \"de\"]\n",
        "\n",
        "  # con seaborn.heatmap è possibile visualizzare a livello grafico la matrice di confusione e i valori di True Positive, True Negative, False Positive e False Negative\n",
        "  # fmt='d' permette di evitare i float\n",
        "  sns.heatmap(pd.DataFrame(cm), annot=True, fmt='d', xticklabels=label_names, yticklabels=label_names)\n",
        "  plt.title(\"Matrice di Confusione\")\n",
        "  plt.ylabel(\"Classe Reale\")\n",
        "  plt.xlabel(\"Classe Predetta\")\n",
        "  plt.show()"
      ],
      "metadata": {
        "id": "YVHcuhUVoezS"
      },
      "execution_count": null,
      "outputs": []
    },
    {
      "cell_type": "markdown",
      "source": [
        "Nel caso dei dati del set di addestramento si può notare che la matrice di confusione multi-classe=3 è ben distribuita, con tutti Veri Positivi, cioè tutte osservazioni positive classificate come positive"
      ],
      "metadata": {
        "id": "_KltH0Ag0Phe"
      }
    },
    {
      "cell_type": "code",
      "source": [
        "plot_confusion_matrix(mnb, (train_descriptions_cleaned_and_vectorized, y_train))"
      ],
      "metadata": {
        "colab": {
          "base_uri": "https://localhost:8080/",
          "height": 472
        },
        "id": "6ZFphXwAzhCs",
        "outputId": "34ba45ec-572c-47d8-ac41-0ca5a33571bf"
      },
      "execution_count": null,
      "outputs": [
        {
          "output_type": "display_data",
          "data": {
            "text/plain": [
              "<Figure size 640x480 with 2 Axes>"
            ],
            "image/png": "[encoded data removed]"
          },
          "metadata": {}
        }
      ]
    },
    {
      "cell_type": "markdown",
      "source": [
        "Nel caso dei dati del set di test si può notare che la matrice di confusione multi-classe=3 è ben distribuita, con valori elevati sulla diagonale:\n",
        "\n",
        "* *True Positive*->Osservazioni positive, classificate come positive:\n",
        "  * *Classe it* ([0,0]): 22\n",
        "  * *Classe en* ([1,1]): 19\n",
        "  * *Classe de* ([2,2]): 15\n",
        "* *False Negative*->Osservazioni positive, classificate come negative:\n",
        "  * *Classe it* ([0,1], [0,2]): 2, 1\n",
        "* *False Positive*->Osservazioni negative, classificate come positive:\n",
        "  * *Classe en* ([0,1]): 2\n",
        "  * *Classe de* ([0,2]): 1\n",
        "\n"
      ],
      "metadata": {
        "id": "dSVPHt520ji0"
      }
    },
    {
      "cell_type": "code",
      "source": [
        "plot_confusion_matrix(mnb, (test_descriptions_cleaned_and_vectorized, y_test))"
      ],
      "metadata": {
        "colab": {
          "base_uri": "https://localhost:8080/",
          "height": 472
        },
        "id": "0tmwTwvTznlg",
        "outputId": "f22d006f-68ee-4731-ee22-5881c888c23b"
      },
      "execution_count": null,
      "outputs": [
        {
          "output_type": "display_data",
          "data": {
            "text/plain": [
              "<Figure size 640x480 with 2 Axes>"
            ],
            "image/png": "[encoded data removed]"
          },
          "metadata": {}
        }
      ]
    },
    {
      "cell_type": "code",
      "source": [],
      "metadata": {
        "id": "jgJrePdIz0kH"
      },
      "execution_count": null,
      "outputs": []
    }
  ]
}